{
 "cells": [
  {
   "cell_type": "code",
   "execution_count": null,
   "metadata": {
    "vscode": {
     "languageId": "r"
    }
   },
   "outputs": [],
   "source": [
    "# Load libraries\n",
    "library(tidyverse)\n"
   ]
  },
  {
   "cell_type": "code",
   "execution_count": null,
   "metadata": {
    "vscode": {
     "languageId": "r"
    }
   },
   "outputs": [],
   "source": [
    "# This cell downloads the original data from data.bs.ch and saves it in the raw folder\n",
    "# It has been downloaded on 2023-03-28\n",
    "\n",
    "download_link <- \"https://data.bs.ch/api/explore/v2.1/catalog/datasets/100138/exports/csv?lang=de&refine=ereignis_typ%3A%22Wegzug%22&refine=ereignis_typ%3A%22Zuzug%22&facet=facet(name%3D%22ereignis_typ%22%2C%20disjunctive%3Dtrue)&qv1=(datum%3E%3D%222006-01-01%22)&timezone=Europe%2FBerlin&use_labels=true&delimiter=%3B\"\n",
    "\n",
    "download.file(download_link, destfile = \"raw/100138.csv\")\n"
   ]
  },
  {
   "cell_type": "code",
   "execution_count": null,
   "metadata": {
    "vscode": {
     "languageId": "r"
    }
   },
   "outputs": [],
   "source": [
    "# Load original data\n",
    "original_data <- read_delim(\"raw/100138.csv\", delim = \";\")\n"
   ]
  },
  {
   "cell_type": "code",
   "execution_count": 35,
   "metadata": {
    "vscode": {
     "languageId": "r"
    }
   },
   "outputs": [],
   "source": [
    "# Make sure the dataset doesn't contain migrations before 2006\n",
    "# ...or migrations withing Basel\n",
    "filtered_data <- filter(original_data, Jahr > 2005)\n",
    "filtered_data <- filter(filtered_data, Wanderungstyp != \"Umzug\")\n"
   ]
  },
  {
   "cell_type": "code",
   "execution_count": 36,
   "metadata": {
    "vscode": {
     "languageId": "r"
    }
   },
   "outputs": [],
   "source": [
    "# Save new dataframe with less columns\n",
    "data_reduced <- select(\n",
    "  filtered_data,\n",
    "  -\"Datum\",\n",
    "  -\"Kalenderwoche\",\n",
    "  -\"Startdatum Woche\",\n",
    "  -\"Tag-Nr.\",\n",
    "  -\"Wochentag\",\n",
    "  -\"Aufenthaltsdauer in Jahren\",\n",
    "  -\"Von Gemeinde\",\n",
    "  -\"Nach Gemeinde\"\n",
    ")\n"
   ]
  },
  {
   "cell_type": "code",
   "execution_count": 37,
   "metadata": {
    "vscode": {
     "languageId": "r"
    }
   },
   "outputs": [],
   "source": [
    "# Remove spaces from column names\n",
    "colnames(data_reduced) <- make.names(colnames(data_reduced))\n"
   ]
  },
  {
   "cell_type": "code",
   "execution_count": 38,
   "metadata": {
    "vscode": {
     "languageId": "r"
    }
   },
   "outputs": [],
   "source": [
    "# Rename column names\n",
    "data_reduced <- rename(data_reduced,\n",
    "  Staatsangehoerigkeit = Staatsangehörigkeit,\n",
    "  VonKontinent = Von.Kontinent,\n",
    "  VonLand = Von.Land,\n",
    "  VonKanton = Von.Kanton,\n",
    "  VonWohnviertel = Von.Wohnviertel,\n",
    "  NachKontinent = Nach.Kontinent,\n",
    "  NachLand = Nach.Land,\n",
    "  NachKanton = Nach.Kanton,\n",
    "  NachWohnviertel = Nach.Wohnviertel\n",
    ")\n"
   ]
  },
  {
   "cell_type": "code",
   "execution_count": 39,
   "metadata": {
    "vscode": {
     "languageId": "r"
    }
   },
   "outputs": [],
   "source": [
    "# Replace \"Unbekannt\" or \"unbekannt\" or \"--\" with NA\n",
    "data_reduced <- mutate_all(data_reduced, ~ ifelse(. %in% c(\"Unbekannt\", \"unbekannt\", \"--\"), NA, .))\n"
   ]
  },
  {
   "cell_type": "code",
   "execution_count": 40,
   "metadata": {
    "vscode": {
     "languageId": "r"
    }
   },
   "outputs": [],
   "source": [
    "# Sort data\n",
    "data_reduced <- arrange(data_reduced, Jahr, Monat)\n"
   ]
  },
  {
   "cell_type": "code",
   "execution_count": 41,
   "metadata": {
    "vscode": {
     "languageId": "r"
    }
   },
   "outputs": [
    {
     "data": {
      "text/html": [
       "<table class=\"dataframe\">\n",
       "<caption>A tibble: 3 × 15</caption>\n",
       "<thead>\n",
       "\t<tr><th scope=col>Wanderungstyp</th><th scope=col>Jahr</th><th scope=col>Monat</th><th scope=col>Staatsangehoerigkeit</th><th scope=col>Geschlecht</th><th scope=col>Alter</th><th scope=col>VonKontinent</th><th scope=col>VonLand</th><th scope=col>VonKanton</th><th scope=col>VonWohnviertel</th><th scope=col>NachKontinent</th><th scope=col>NachLand</th><th scope=col>NachKanton</th><th scope=col>NachWohnviertel</th><th scope=col>Anzahl</th></tr>\n",
       "\t<tr><th scope=col>&lt;chr&gt;</th><th scope=col>&lt;dbl&gt;</th><th scope=col>&lt;dbl&gt;</th><th scope=col>&lt;chr&gt;</th><th scope=col>&lt;chr&gt;</th><th scope=col>&lt;dbl&gt;</th><th scope=col>&lt;chr&gt;</th><th scope=col>&lt;chr&gt;</th><th scope=col>&lt;chr&gt;</th><th scope=col>&lt;chr&gt;</th><th scope=col>&lt;chr&gt;</th><th scope=col>&lt;chr&gt;</th><th scope=col>&lt;chr&gt;</th><th scope=col>&lt;chr&gt;</th><th scope=col>&lt;dbl&gt;</th></tr>\n",
       "</thead>\n",
       "<tbody>\n",
       "\t<tr><td>Zuzug</td><td>2006</td><td>1</td><td>Ausländer</td><td>M</td><td>12</td><td>Schweiz              </td><td>Schweiz    </td><td>AR</td><td>NA</td><td>Schweiz</td><td>Schweiz</td><td>BS</td><td>Clara     </td><td>1</td></tr>\n",
       "\t<tr><td>Zuzug</td><td>2006</td><td>1</td><td>Ausländer</td><td>M</td><td>24</td><td>Europa (ohne Schweiz)</td><td>Deutschland</td><td>NA</td><td>NA</td><td>Schweiz</td><td>Schweiz</td><td>BS</td><td>Riehen    </td><td>1</td></tr>\n",
       "\t<tr><td>Zuzug</td><td>2006</td><td>1</td><td>Ausländer</td><td>M</td><td>25</td><td>Schweiz              </td><td>Schweiz    </td><td>BL</td><td>NA</td><td>Schweiz</td><td>Schweiz</td><td>BS</td><td>St. Johann</td><td>1</td></tr>\n",
       "</tbody>\n",
       "</table>\n"
      ],
      "text/latex": [
       "A tibble: 3 × 15\n",
       "\\begin{tabular}{lllllllllllllll}\n",
       " Wanderungstyp & Jahr & Monat & Staatsangehoerigkeit & Geschlecht & Alter & VonKontinent & VonLand & VonKanton & VonWohnviertel & NachKontinent & NachLand & NachKanton & NachWohnviertel & Anzahl\\\\\n",
       " <chr> & <dbl> & <dbl> & <chr> & <chr> & <dbl> & <chr> & <chr> & <chr> & <chr> & <chr> & <chr> & <chr> & <chr> & <dbl>\\\\\n",
       "\\hline\n",
       "\t Zuzug & 2006 & 1 & Ausländer & M & 12 & Schweiz               & Schweiz     & AR & NA & Schweiz & Schweiz & BS & Clara      & 1\\\\\n",
       "\t Zuzug & 2006 & 1 & Ausländer & M & 24 & Europa (ohne Schweiz) & Deutschland & NA & NA & Schweiz & Schweiz & BS & Riehen     & 1\\\\\n",
       "\t Zuzug & 2006 & 1 & Ausländer & M & 25 & Schweiz               & Schweiz     & BL & NA & Schweiz & Schweiz & BS & St. Johann & 1\\\\\n",
       "\\end{tabular}\n"
      ],
      "text/markdown": [
       "\n",
       "A tibble: 3 × 15\n",
       "\n",
       "| Wanderungstyp &lt;chr&gt; | Jahr &lt;dbl&gt; | Monat &lt;dbl&gt; | Staatsangehoerigkeit &lt;chr&gt; | Geschlecht &lt;chr&gt; | Alter &lt;dbl&gt; | VonKontinent &lt;chr&gt; | VonLand &lt;chr&gt; | VonKanton &lt;chr&gt; | VonWohnviertel &lt;chr&gt; | NachKontinent &lt;chr&gt; | NachLand &lt;chr&gt; | NachKanton &lt;chr&gt; | NachWohnviertel &lt;chr&gt; | Anzahl &lt;dbl&gt; |\n",
       "|---|---|---|---|---|---|---|---|---|---|---|---|---|---|---|\n",
       "| Zuzug | 2006 | 1 | Ausländer | M | 12 | Schweiz               | Schweiz     | AR | NA | Schweiz | Schweiz | BS | Clara      | 1 |\n",
       "| Zuzug | 2006 | 1 | Ausländer | M | 24 | Europa (ohne Schweiz) | Deutschland | NA | NA | Schweiz | Schweiz | BS | Riehen     | 1 |\n",
       "| Zuzug | 2006 | 1 | Ausländer | M | 25 | Schweiz               | Schweiz     | BL | NA | Schweiz | Schweiz | BS | St. Johann | 1 |\n",
       "\n"
      ],
      "text/plain": [
       "  Wanderungstyp Jahr Monat Staatsangehoerigkeit Geschlecht Alter\n",
       "1 Zuzug         2006 1     Ausländer            M          12   \n",
       "2 Zuzug         2006 1     Ausländer            M          24   \n",
       "3 Zuzug         2006 1     Ausländer            M          25   \n",
       "  VonKontinent          VonLand     VonKanton VonWohnviertel NachKontinent\n",
       "1 Schweiz               Schweiz     AR        NA             Schweiz      \n",
       "2 Europa (ohne Schweiz) Deutschland NA        NA             Schweiz      \n",
       "3 Schweiz               Schweiz     BL        NA             Schweiz      \n",
       "  NachLand NachKanton NachWohnviertel Anzahl\n",
       "1 Schweiz  BS         Clara           1     \n",
       "2 Schweiz  BS         Riehen          1     \n",
       "3 Schweiz  BS         St. Johann      1     "
      ]
     },
     "metadata": {},
     "output_type": "display_data"
    },
    {
     "data": {
      "text/html": [
       "<table class=\"dataframe\">\n",
       "<caption>A tibble: 3 × 15</caption>\n",
       "<thead>\n",
       "\t<tr><th scope=col>Wanderungstyp</th><th scope=col>Jahr</th><th scope=col>Monat</th><th scope=col>Staatsangehoerigkeit</th><th scope=col>Geschlecht</th><th scope=col>Alter</th><th scope=col>VonKontinent</th><th scope=col>VonLand</th><th scope=col>VonKanton</th><th scope=col>VonWohnviertel</th><th scope=col>NachKontinent</th><th scope=col>NachLand</th><th scope=col>NachKanton</th><th scope=col>NachWohnviertel</th><th scope=col>Anzahl</th></tr>\n",
       "\t<tr><th scope=col>&lt;chr&gt;</th><th scope=col>&lt;dbl&gt;</th><th scope=col>&lt;dbl&gt;</th><th scope=col>&lt;chr&gt;</th><th scope=col>&lt;chr&gt;</th><th scope=col>&lt;dbl&gt;</th><th scope=col>&lt;chr&gt;</th><th scope=col>&lt;chr&gt;</th><th scope=col>&lt;chr&gt;</th><th scope=col>&lt;chr&gt;</th><th scope=col>&lt;chr&gt;</th><th scope=col>&lt;chr&gt;</th><th scope=col>&lt;chr&gt;</th><th scope=col>&lt;chr&gt;</th><th scope=col>&lt;dbl&gt;</th></tr>\n",
       "</thead>\n",
       "<tbody>\n",
       "\t<tr><td>Zuzug</td><td>2023</td><td>10</td><td>Ausländer</td><td>M</td><td>23</td><td>Asien  </td><td>Indien  </td><td>NA</td><td>NA</td><td>Schweiz</td><td>Schweiz</td><td>BS</td><td>Wettstein   </td><td>1</td></tr>\n",
       "\t<tr><td>Zuzug</td><td>2023</td><td>10</td><td>Ausländer</td><td>W</td><td>53</td><td>Asien  </td><td>Georgien</td><td>NA</td><td>NA</td><td>Schweiz</td><td>Schweiz</td><td>BS</td><td>Gundeldingen</td><td>1</td></tr>\n",
       "\t<tr><td>Zuzug</td><td>2023</td><td>10</td><td>Ausländer</td><td>W</td><td>48</td><td>Schweiz</td><td>Schweiz </td><td>ZH</td><td>NA</td><td>Schweiz</td><td>Schweiz</td><td>BS</td><td>Matthäus    </td><td>1</td></tr>\n",
       "</tbody>\n",
       "</table>\n"
      ],
      "text/latex": [
       "A tibble: 3 × 15\n",
       "\\begin{tabular}{lllllllllllllll}\n",
       " Wanderungstyp & Jahr & Monat & Staatsangehoerigkeit & Geschlecht & Alter & VonKontinent & VonLand & VonKanton & VonWohnviertel & NachKontinent & NachLand & NachKanton & NachWohnviertel & Anzahl\\\\\n",
       " <chr> & <dbl> & <dbl> & <chr> & <chr> & <dbl> & <chr> & <chr> & <chr> & <chr> & <chr> & <chr> & <chr> & <chr> & <dbl>\\\\\n",
       "\\hline\n",
       "\t Zuzug & 2023 & 10 & Ausländer & M & 23 & Asien   & Indien   & NA & NA & Schweiz & Schweiz & BS & Wettstein    & 1\\\\\n",
       "\t Zuzug & 2023 & 10 & Ausländer & W & 53 & Asien   & Georgien & NA & NA & Schweiz & Schweiz & BS & Gundeldingen & 1\\\\\n",
       "\t Zuzug & 2023 & 10 & Ausländer & W & 48 & Schweiz & Schweiz  & ZH & NA & Schweiz & Schweiz & BS & Matthäus     & 1\\\\\n",
       "\\end{tabular}\n"
      ],
      "text/markdown": [
       "\n",
       "A tibble: 3 × 15\n",
       "\n",
       "| Wanderungstyp &lt;chr&gt; | Jahr &lt;dbl&gt; | Monat &lt;dbl&gt; | Staatsangehoerigkeit &lt;chr&gt; | Geschlecht &lt;chr&gt; | Alter &lt;dbl&gt; | VonKontinent &lt;chr&gt; | VonLand &lt;chr&gt; | VonKanton &lt;chr&gt; | VonWohnviertel &lt;chr&gt; | NachKontinent &lt;chr&gt; | NachLand &lt;chr&gt; | NachKanton &lt;chr&gt; | NachWohnviertel &lt;chr&gt; | Anzahl &lt;dbl&gt; |\n",
       "|---|---|---|---|---|---|---|---|---|---|---|---|---|---|---|\n",
       "| Zuzug | 2023 | 10 | Ausländer | M | 23 | Asien   | Indien   | NA | NA | Schweiz | Schweiz | BS | Wettstein    | 1 |\n",
       "| Zuzug | 2023 | 10 | Ausländer | W | 53 | Asien   | Georgien | NA | NA | Schweiz | Schweiz | BS | Gundeldingen | 1 |\n",
       "| Zuzug | 2023 | 10 | Ausländer | W | 48 | Schweiz | Schweiz  | ZH | NA | Schweiz | Schweiz | BS | Matthäus     | 1 |\n",
       "\n"
      ],
      "text/plain": [
       "  Wanderungstyp Jahr Monat Staatsangehoerigkeit Geschlecht Alter VonKontinent\n",
       "1 Zuzug         2023 10    Ausländer            M          23    Asien       \n",
       "2 Zuzug         2023 10    Ausländer            W          53    Asien       \n",
       "3 Zuzug         2023 10    Ausländer            W          48    Schweiz     \n",
       "  VonLand  VonKanton VonWohnviertel NachKontinent NachLand NachKanton\n",
       "1 Indien   NA        NA             Schweiz       Schweiz  BS        \n",
       "2 Georgien NA        NA             Schweiz       Schweiz  BS        \n",
       "3 Schweiz  ZH        NA             Schweiz       Schweiz  BS        \n",
       "  NachWohnviertel Anzahl\n",
       "1 Wettstein       1     \n",
       "2 Gundeldingen    1     \n",
       "3 Matthäus        1     "
      ]
     },
     "metadata": {},
     "output_type": "display_data"
    }
   ],
   "source": [
    "# Peek into the data\n",
    "head(data_reduced, 3)\n",
    "tail(data_reduced, 3)\n"
   ]
  },
  {
   "cell_type": "code",
   "execution_count": 42,
   "metadata": {
    "vscode": {
     "languageId": "r"
    }
   },
   "outputs": [],
   "source": [
    "# Repeat each row n times if Anzahl is > 1\n",
    "# For the final visualization, we want to have an individual data point for each migration\n",
    "\n",
    "# Create a vector of row indices to repeat\n",
    "row_indices <- rep(seq_len(nrow(data_reduced)), ifelse(data_reduced$Anzahl > 1, data_reduced$Anzahl - 1, 0))\n",
    "\n",
    "# Create the expanded dataframe by indexing the original dataframe\n",
    "expanded_data <- data_reduced[row_indices, ]\n"
   ]
  },
  {
   "cell_type": "code",
   "execution_count": 43,
   "metadata": {
    "vscode": {
     "languageId": "r"
    }
   },
   "outputs": [],
   "source": [
    "# Bind the copied rows to the  data\n",
    "data_modified <- rbind(data_reduced, expanded_data)\n"
   ]
  },
  {
   "cell_type": "code",
   "execution_count": 44,
   "metadata": {
    "vscode": {
     "languageId": "r"
    }
   },
   "outputs": [],
   "source": [
    "# Re-sort the data\n",
    "data_modified <- arrange(data_modified, Jahr, Monat, Alter)\n"
   ]
  },
  {
   "cell_type": "code",
   "execution_count": 45,
   "metadata": {
    "vscode": {
     "languageId": "r"
    }
   },
   "outputs": [],
   "source": [
    "# Remove the Anzahl column, it's no longer needed\n",
    "data_modified <- select(data_modified, -\"Anzahl\")\n"
   ]
  },
  {
   "cell_type": "code",
   "execution_count": 47,
   "metadata": {
    "vscode": {
     "languageId": "r"
    }
   },
   "outputs": [],
   "source": [
    "# The geojson of Switzerland used in the frontend doesn't have\n",
    "# canton abbreviations, so we'll map our data here accordingly\n",
    "\n",
    "cantons <- list(\n",
    "  AG = \"Aargau\",\n",
    "  AI = \"Appenzell Innerrhoden\",\n",
    "  AR = \"Appenzell Ausserrhoden\",\n",
    "  BE = \"Bern\",\n",
    "  BL = \"Basel-Landschaft\",\n",
    "  BS = \"Basel-Stadt\",\n",
    "  FR = \"Fribourg\",\n",
    "  GE = \"Genève\",\n",
    "  GL = \"Glarus\",\n",
    "  GR = \"Graubünden\",\n",
    "  JU = \"Jura\",\n",
    "  LU = \"Luzern\",\n",
    "  NE = \"Neuchâtel\",\n",
    "  NW = \"Nidwalden\",\n",
    "  OW = \"Obwalden\",\n",
    "  SG = \"St. Gallen\",\n",
    "  SH = \"Schaffhausen\",\n",
    "  SO = \"Solothurn\",\n",
    "  SZ = \"Schwyz\",\n",
    "  TG = \"Thurgau\",\n",
    "  TI = \"Ticino\",\n",
    "  UR = \"Uri\",\n",
    "  VD = \"Vaud\",\n",
    "  VS = \"Valais\",\n",
    "  ZG = \"Zug\",\n",
    "  ZH = \"Zürich\",\n",
    "  CH = NA\n",
    ")\n"
   ]
  },
  {
   "cell_type": "code",
   "execution_count": 48,
   "metadata": {
    "vscode": {
     "languageId": "r"
    }
   },
   "outputs": [],
   "source": [
    "# The geojson of the world used in the frontend doesn't necessarily\n",
    "# have German country names, so we'll map our data here accordingly.\n",
    "\n",
    "# Also, the world map's scale doesn't allow to plot every small country/state/island\n",
    "# like Andorra, Singapore, etc. These are mapped to its surrounding areas,\n",
    "# even though that might not be politically correct.\n",
    "# I apologize if this offends anyone. It's about plotting the very\n",
    "# rough location on the map, not about political belongings.\n",
    "\n",
    "countries <- list(\n",
    "  \"Aegypten\" = \"Egypt\",\n",
    "  \"Aethiopien\" = \"Ethiopia\",\n",
    "  \"Afghanistan\" = \"Afghanistan\",\n",
    "  \"Albanien\" = \"Albania\",\n",
    "  \"Algerien\" = \"Algeria\",\n",
    "  \"Andorra\" = \"Spain\",\n",
    "  \"Angola\" = \"Angola\",\n",
    "  \"Antarktis & Antarktische Ins.\" = \"Unknown\",\n",
    "  \"Argentinien\" = \"Argentina\",\n",
    "  \"Armenien\" = \"Armenia\",\n",
    "  \"Aruba\" = \"Venezuela\",\n",
    "  \"Aserbaidschan\" = \"Azerbaijan\",\n",
    "  \"Australien\" = \"Australia\",\n",
    "  \"Bahamas\" = \"Bahamas\",\n",
    "  \"Bahrain\" = \"Saudi Arabia\",\n",
    "  \"Bangladesch\" = \"Bangladesh\",\n",
    "  \"Barbados\" = \"Venezuela\",\n",
    "  \"Belgien\" = \"Belgium\",\n",
    "  \"Belize\" = \"Belize\",\n",
    "  \"Benin\" = \"Benin\",\n",
    "  \"Bermuda Inseln\" = \"Puerto Rico\",\n",
    "  \"Bhutan\" = \"Bhutan\",\n",
    "  \"Bolivien\" = \"Bolivia\",\n",
    "  \"Bosnien-Herzegowina\" = \"Bosnia and Herz.\",\n",
    "  \"Botswana\" = \"Botswana\",\n",
    "  \"Brasilien\" = \"Brazil\",\n",
    "  \"Brit.Territ.im Indischen Ozean\" = NA,\n",
    "  \"Brunei\" = \"Malaysia\",\n",
    "  \"Brunei Darussalam\" = \"Malaysia\",\n",
    "  \"Bulgarien\" = \"Bulgaria\",\n",
    "  \"Bundesrep. Jugoslawien\" = \"Serbia\",\n",
    "  \"Burkina Faso\" = \"Burkina Faso\",\n",
    "  \"Burundi\" = \"Burundi\",\n",
    "  \"Chile\" = \"Chile\",\n",
    "  \"China\" = \"China\",\n",
    "  \"Costa Rica\" = \"Costa Rica\",\n",
    "  \"Dänemark\" = \"Denmark\",\n",
    "  \"Deutschland\" = \"Germany\",\n",
    "  \"Dominica\" = \"Puerto Rico\",\n",
    "  \"Dominikanische Republik\" = \"Dominican Rep.\",\n",
    "  \"Ecuador\" = \"Ecuador\",\n",
    "  \"El Salvador\" = \"El Salvador\",\n",
    "  \"Elfenbeinküste\" = \"Côte d'Ivoire\",\n",
    "  \"Eritrea\" = \"Eritrea\",\n",
    "  \"Estland\" = \"Estonia\",\n",
    "  \"Fidschi\" = \"Fiji\",\n",
    "  \"Finnland\" = \"Finland\",\n",
    "  \"Frankreich\" = \"France\",\n",
    "  \"Französisch Polynesien\" = \"Fiji\",\n",
    "  \"Gabun\" = \"Gabon\",\n",
    "  \"Gambia\" = \"Gambia\",\n",
    "  \"Georgien\" = \"Georgia\",\n",
    "  \"Ghana\" = \"Ghana\",\n",
    "  \"Gibraltar\" = \"Spain\",\n",
    "  \"Grenada\" = \"Venezuela\",\n",
    "  \"Griechenland\" = \"Greece\",\n",
    "  \"Grossbritannien\" = \"United Kingdom\",\n",
    "  \"Grönland\" = \"Greenland\",\n",
    "  \"Guadeloupe\" = \"Puerto Rico\",\n",
    "  \"Guatemala\" = \"Guatemala\",\n",
    "  \"Guernsey\" = \"France\",\n",
    "  \"Guinea-Bissau\" = \"Guinea-Bissau\",\n",
    "  \"Guinea\" = \"Guinea\",\n",
    "  \"Guyana (Französisch)\" = \"Suriname\",\n",
    "  \"Guyana (Republik)\" = \"Guyana\",\n",
    "  \"Guyana\" = \"Guyana\",\n",
    "  \"Haiti\" = \"Haiti\",\n",
    "  \"Honduras\" = \"Honduras\",\n",
    "  \"Hong Kong\" = \"China\",\n",
    "  \"Indien\" = \"India\",\n",
    "  \"Indonesien\" = \"Indonesia\",\n",
    "  \"Irak\" = \"Iraq\",\n",
    "  \"Iran\" = \"Iran\",\n",
    "  \"Irland\" = \"Ireland\",\n",
    "  \"Island\" = \"Iceland\",\n",
    "  \"Israel\" = \"Israel\",\n",
    "  \"Italien\" = \"Italy\",\n",
    "  \"Jamaika\" = \"Jamaica\",\n",
    "  \"Japan\" = \"Japan\",\n",
    "  \"Jemen (Arabische Republik)\" = \"Yemen\",\n",
    "  \"Jordanien\" = \"Jordan\",\n",
    "  \"Jungferninseln (UK)\" = \"Puerto Rico\",\n",
    "  \"Jungferninseln (USA)\" = \"Puerto Rico\",\n",
    "  \"Kaimaninseln\" = \"Cuba\",\n",
    "  \"Kambodscha\" = \"Cambodia\",\n",
    "  \"Kamerun\" = \"Cameroon\",\n",
    "  \"Kanada\" = \"Canada\",\n",
    "  \"Kanalinseln\" = \"France\",\n",
    "  \"Kanarische Inseln\" = \"Morocco\",\n",
    "  \"Kap Verde\" = \"Senegal\",\n",
    "  \"Kasachstan\" = \"Kazakhstan\",\n",
    "  \"Katar\" = \"Qatar\",\n",
    "  \"Kenia\" = \"Kenya\",\n",
    "  \"Kirgistan\" = \"Kyrgyzstan\",\n",
    "  \"Kolumbien\" = \"Colombia\",\n",
    "  \"Kongo (Brazzaville)\" = \"Dem. Rep. Congo\",\n",
    "  \"Kongo (Kinshasa)\" = \"Dem. Rep. Congo\",\n",
    "  \"Korea (Nord-)\" = \"North Korea\",\n",
    "  \"Korea (Süd-)\" = \"South Korea\",\n",
    "  \"Kosovo\" = \"Kosovo\",\n",
    "  \"Kroatien\" = \"Croatia\",\n",
    "  \"Kuba\" = \"Cuba\",\n",
    "  \"Kuwait\" = \"Kuwait\",\n",
    "  \"Laos\" = \"Laos\",\n",
    "  \"Lesotho\" = \"Lesotho\",\n",
    "  \"Lettland\" = \"Latvia\",\n",
    "  \"Libanon\" = \"Lebanon\",\n",
    "  \"Liberia\" = \"Liberia\",\n",
    "  \"Libyen\" = \"Libya\",\n",
    "  \"Liechtenstein\" = \"Austria\",\n",
    "  \"Litauen\" = \"Lithuania\",\n",
    "  \"Luxemburg\" = \"Luxembourg\",\n",
    "  \"Madagaskar\" = \"Madagascar\",\n",
    "  \"Malawi\" = \"Malawi\",\n",
    "  \"Malaysia\" = \"Malaysia\",\n",
    "  \"Malediven\" = \"Sri Lanka\",\n",
    "  \"Mali\" = \"Mali\",\n",
    "  \"Malta\" = \"Italy\",\n",
    "  \"Marokko\" = \"Morocco\",\n",
    "  \"Martinique\" = \"Puerto Rico\",\n",
    "  \"Mauretanien\" = \"Mauritania\",\n",
    "  \"Mauritius\" = \"Madagascar\",\n",
    "  \"Mayotte\" = \"Madagascar\",\n",
    "  \"Mexiko\" = \"Mexico\",\n",
    "  \"Moldawien\" = \"Moldova\",\n",
    "  \"Monaco\" = \"France\",\n",
    "  \"Mongolei\" = \"Mongolia\",\n",
    "  \"Montenegro\" = \"Montenegro\",\n",
    "  \"Mosambik\" = \"Mozambique\",\n",
    "  \"Myanmar\" = \"Myanmar\",\n",
    "  \"Namibia\" = \"Namibia\",\n",
    "  \"Nepal\" = \"Nepal\",\n",
    "  \"Neuseeland\" = \"New Zealand\",\n",
    "  \"Neukaledonien\" = \"Fiji\",\n",
    "  \"Nicaragua\" = \"Nicaragua\",\n",
    "  \"Niederlande\" = \"Netherlands\",\n",
    "  \"Niederländische Antillen\" = \"Dominican Rep.\",\n",
    "  \"Niger\" = \"Niger\",\n",
    "  \"Nigeria\" = \"Nigeria\",\n",
    "  \"Nordmazedonien\" = \"North Macedonia\",\n",
    "  \"Norwegen\" = \"Norway\",\n",
    "  \"Oesterreich\" = \"Austria\",\n",
    "  \"Oman\" = \"Oman\",\n",
    "  \"Pakistan\" = \"Pakistan\",\n",
    "  \"Palästina\" = \"Palestine\",\n",
    "  \"Panama\" = \"Panama\",\n",
    "  \"Papua-Neuguinea\" = \"Papua New Guinea\",\n",
    "  \"Paraguay\" = \"Paraguay\",\n",
    "  \"Peru\" = \"Peru\",\n",
    "  \"Philippinen\" = \"Philippines\",\n",
    "  \"Polen\" = \"Poland\",\n",
    "  \"Portugal\" = \"Portugal\",\n",
    "  \"Provinz Wojwodina\" = \"Serbia\",\n",
    "  \"Reunion\" = \"Madagascar\",\n",
    "  \"Ruanda\" = \"Rwanda\",\n",
    "  \"Rumänien\" = \"Romania\",\n",
    "  \"Russland\" = \"Russia\",\n",
    "  \"Sambia\" = \"Zambia\",\n",
    "  \"Samoa\" = \"Fiji\",\n",
    "  \"San Marino\" = \"Italy\",\n",
    "  \"Saudi-Arabien\" = \"Saudi Arabia\",\n",
    "  \"Schweden\" = \"Sweden\",\n",
    "  \"Schweiz\" = \"Switzerland\",\n",
    "  \"Senegal\" = \"Senegal\",\n",
    "  \"Serbien\" = \"Serbia\",\n",
    "  \"Seychellen\" = \"Madagascar\",\n",
    "  \"Sierra Leone\" = \"Sierra Leone\",\n",
    "  \"Simbabwe\" = \"Zimbabwe\",\n",
    "  \"Singapur\" = \"Malaysia\",\n",
    "  \"Slowakische Republik\" = \"Slovakia\",\n",
    "  \"Slowenien\" = \"Slovenia\",\n",
    "  \"Somalia\" = \"Somalia\",\n",
    "  \"Spanien\" = \"Spain\",\n",
    "  \"Sri Lanka\" = \"Sri Lanka\",\n",
    "  \"St.Kitts und Nevis\" = \"Puerto Rico\",\n",
    "  \"St.Lucia\" = \"Puerto Rico\",\n",
    "  \"St.Vincent und die Grenadinen\" = \"Puerto Rico\",\n",
    "  \"Südafrika\" = \"South Africa\",\n",
    "  \"Sudan\" = \"Sudan\",\n",
    "  \"Südsudan\" = \"Sudan\",\n",
    "  \"Surinam\" = \"Suriname\",\n",
    "  \"Syrien\" = \"Syria\",\n",
    "  \"Tadschikistan\" = \"Tajikistan\",\n",
    "  \"Taiwan (Chinesisches Taipei)\" = \"Taiwan\",\n",
    "  \"Tansania\" = \"Tanzania\",\n",
    "  \"Thailand\" = \"Thailand\",\n",
    "  \"Tibet\" = \"Bhutan\",\n",
    "  \"Togo\" = \"Togo\",\n",
    "  \"Tonga\" = \"Fiji\",\n",
    "  \"Trinidad und Tobago\" = \"Trinidad and Tobago\",\n",
    "  \"Tschad\" = \"Chad\",\n",
    "  \"Tschechische Republik\" = \"Czechia\",\n",
    "  \"Tunesien\" = \"Tunisia\",\n",
    "  \"Türkei\" = \"Turkey\",\n",
    "  \"Turkmenistan\" = \"Turkmenistan\",\n",
    "  \"Uganda\" = \"Uganda\",\n",
    "  \"Ukraine\" = \"Ukraine\",\n",
    "  \"Ungarn\" = \"Hungary\",\n",
    "  \"Uruguay\" = \"Uruguay\",\n",
    "  \"Usbekistan\" = \"Uzbekistan\",\n",
    "  \"Vanuatu\" = \"Vanuatu\",\n",
    "  \"Vatikanstadt\" = \"Italy\",\n",
    "  \"Venezuela\" = \"Venezuela\",\n",
    "  \"Vereinigte Arabische Emirate\" = \"United Arab Emirates\",\n",
    "  \"Vereinigte Staaten von Amerika\" = \"United States of America\",\n",
    "  \"Vietnam\" = \"Vietnam\",\n",
    "  \"Weissrussland\" = \"Belarus\",\n",
    "  \"Zentralafrikanische Republik\" = \"Central African Rep\",\n",
    "  \"Zentralserbien\" = \"Serbia\",\n",
    "  \"Zypern\" = \"Cyprus\"\n",
    ")\n"
   ]
  },
  {
   "cell_type": "code",
   "execution_count": 49,
   "metadata": {
    "vscode": {
     "languageId": "r"
    }
   },
   "outputs": [],
   "source": [
    "# We are going to add some data to each row so we don't have to do it in the frontend later\n",
    "# We want to keep the starting map and region as well as the end map and region of each row (e.g. \"Basel\"/\"St. Johann\" or \"World\"/\"USA\", etc.)\n",
    "\n",
    "data_enhanced <- add_column(data_modified,\n",
    "  StartKarte = NA_character_,\n",
    "  StartRegion = NA_character_,\n",
    "  EndKarte = NA_character_,\n",
    "  EndRegion = NA_character_\n",
    ")\n"
   ]
  },
  {
   "cell_type": "code",
   "execution_count": 50,
   "metadata": {
    "vscode": {
     "languageId": "r"
    }
   },
   "outputs": [],
   "source": [
    "# Set the starting maps\n",
    "data_enhanced <- mutate(data_enhanced,\n",
    "  StartKarte = case_when(\n",
    "    Wanderungstyp == \"Wegzug\" ~ \"basel\", # \"Basel\" for all emigrants\n",
    "    VonKontinent == \"Schweiz\" ~ \"switzerland\",\n",
    "    VonKontinent == \"Europa (ohne Schweiz)\" &\n",
    "      (VonLand != \"Russland\" & VonLand != \"Türkei\" & VonLand != \"Zypern\" | is.na(VonLand)) ~\n",
    "      \"europe\",\n",
    "    VonLand == \"Russland\" | VonLand == \"Türkei\" | VonLand == \"Zypern\" ~ \"world\",\n",
    "    is.na(VonKontinent) ~ NA,\n",
    "    TRUE ~ \"world\"\n",
    "  )\n",
    ")\n"
   ]
  },
  {
   "cell_type": "code",
   "execution_count": 51,
   "metadata": {
    "vscode": {
     "languageId": "r"
    }
   },
   "outputs": [],
   "source": [
    "# Set the starting region\n",
    "data_enhanced <- mutate(data_enhanced,\n",
    "  StartRegion = ifelse(\n",
    "    StartKarte == \"basel\",\n",
    "    VonWohnviertel, as.character(ifelse(\n",
    "      StartKarte == \"switzerland\",\n",
    "      ifelse(is.na(VonKanton), NA, cantons[VonKanton]),\n",
    "      ifelse(is.na(VonLand), NA, countries[VonLand])\n",
    "    ))\n",
    "  )\n",
    ")\n"
   ]
  },
  {
   "cell_type": "code",
   "execution_count": 52,
   "metadata": {
    "vscode": {
     "languageId": "r"
    }
   },
   "outputs": [],
   "source": [
    "# Set the ending maps\n",
    "data_enhanced <- mutate(data_enhanced,\n",
    "  EndKarte = case_when(\n",
    "    Wanderungstyp == \"Zuzug\" ~ \"basel\", # \"Basel\" for all imigrants\n",
    "    NachKontinent == \"Schweiz\" ~ \"switzerland\",\n",
    "    NachKontinent == \"Europa (ohne Schweiz)\" &\n",
    "      (\n",
    "        NachLand != \"Russland\" &\n",
    "          NachLand != \"Türkei\" &\n",
    "          NachLand != \"Zypern\" |\n",
    "          is.na(NachLand)) ~\n",
    "      \"europe\",\n",
    "    NachLand == \"Russland\" |\n",
    "      NachLand == \"Türkei\" |\n",
    "      NachLand == \"Zypern\" ~ \"world\",\n",
    "    is.na(NachKontinent) ~ NA,\n",
    "    TRUE ~ \"world\"\n",
    "  )\n",
    ")\n"
   ]
  },
  {
   "cell_type": "code",
   "execution_count": 53,
   "metadata": {
    "vscode": {
     "languageId": "r"
    }
   },
   "outputs": [],
   "source": [
    "# Set the ending region\n",
    "data_enhanced <- mutate(data_enhanced,\n",
    "  EndRegion = ifelse(\n",
    "    EndKarte == \"basel\",\n",
    "    NachWohnviertel, as.character(ifelse(\n",
    "      EndKarte == \"switzerland\",\n",
    "      ifelse(is.na(NachKanton), NA, cantons[NachKanton]),\n",
    "      ifelse(is.na(NachLand), NA, countries[NachLand])\n",
    "    ))\n",
    "  )\n",
    ")\n"
   ]
  },
  {
   "cell_type": "code",
   "execution_count": 54,
   "metadata": {
    "vscode": {
     "languageId": "r"
    }
   },
   "outputs": [],
   "source": [
    "# Save project data as CSV\n",
    "write_csv(data_enhanced, \"tidy/migration.csv\")\n"
   ]
  },
  {
   "cell_type": "code",
   "execution_count": 55,
   "metadata": {
    "vscode": {
     "languageId": "r"
    }
   },
   "outputs": [],
   "source": [
    "# In order to host the data on GitHub, we need to divide the migration data into smaller chunks.\n",
    "# GitHub has a file size limit of 50MB.\n",
    "# However, we are going to create much more chunks - one per month!!\n",
    "# On the website, users will be able to select a starting year and month.\n",
    "# The site will load only the needed data.\n",
    "# Once the animation is done, the subsequent data will be loaded.\n"
   ]
  },
  {
   "cell_type": "code",
   "execution_count": null,
   "metadata": {
    "vscode": {
     "languageId": "r"
    }
   },
   "outputs": [],
   "source": [
    "# Read final data\n",
    "final_data <- read_delim(\"tidy/migration.csv\", delim = \",\")\n"
   ]
  },
  {
   "cell_type": "code",
   "execution_count": 58,
   "metadata": {
    "vscode": {
     "languageId": "r"
    }
   },
   "outputs": [],
   "source": [
    "chunks <- final_data %>%\n",
    "  mutate(JahrMonat = paste(Jahr, Monat, sep = \"-\"), .before = 1) %>%\n",
    "  group_by(JahrMonat) %>%\n",
    "  group_split()\n"
   ]
  },
  {
   "cell_type": "code",
   "execution_count": 59,
   "metadata": {
    "vscode": {
     "languageId": "r"
    }
   },
   "outputs": [],
   "source": [
    "# Save each chunk as a separate csv file\n",
    "output_dir <- \"tidy/chunks/\"\n",
    "for (i in seq_along(chunks)) {\n",
    "  write_csv(chunks[[i]], paste0(output_dir, chunks[[i]][1, \"JahrMonat\"], \".csv\"))\n",
    "}\n"
   ]
  },
  {
   "cell_type": "code",
   "execution_count": null,
   "metadata": {
    "vscode": {
     "languageId": "r"
    }
   },
   "outputs": [],
   "source": [
    "# Copy files to the web apps directory\n",
    "source_directory <- \"tidy/chunks\"\n",
    "target_directory <- \"../basel-migration/public/data/migration\"\n",
    "\n",
    "# Get list of file names in the source directory\n",
    "file_list <- list.files(source_directory, full.names = TRUE)\n",
    "\n",
    "# Copy files to the target directory\n",
    "file.copy(from = file_list, to = target_directory, overwrite = TRUE)\n"
   ]
  }
 ],
 "metadata": {
  "kernelspec": {
   "display_name": "R",
   "language": "R",
   "name": "ir"
  },
  "language_info": {
   "codemirror_mode": "r",
   "file_extension": ".r",
   "mimetype": "text/x-r-source",
   "name": "R",
   "pygments_lexer": "r",
   "version": "4.3.3"
  }
 },
 "nbformat": 4,
 "nbformat_minor": 2
}
