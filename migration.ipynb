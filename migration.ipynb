{
 "cells": [
  {
   "cell_type": "code",
   "execution_count": 92,
   "metadata": {
    "vscode": {
     "languageId": "r"
    }
   },
   "outputs": [],
   "source": [
    "# Load libraries\n",
    "library(tidyverse)"
   ]
  },
  {
   "cell_type": "code",
   "execution_count": 93,
   "metadata": {
    "vscode": {
     "languageId": "r"
    }
   },
   "outputs": [],
   "source": [
    "# This cell downloads the original data from data.bs.ch and saves it in the raw folder\n",
    "# It has been downloaded on 2024-03-01\n",
    "\n",
    "# download_link <- \"https://data.bs.ch/api/explore/v2.1/catalog/datasets/100138/exports/csv?lang=de&timezone=Europe%2FBerlin&use_labels=true&delimiter=%3B\"\n",
    "# download.file(download_link, destfile = \"/raw/100138.csv\")"
   ]
  },
  {
   "cell_type": "code",
   "execution_count": 94,
   "metadata": {
    "vscode": {
     "languageId": "r"
    }
   },
   "outputs": [
    {
     "name": "stderr",
     "output_type": "stream",
     "text": [
      "\u001b[1mRows: \u001b[22m\u001b[34m1664159\u001b[39m \u001b[1mColumns: \u001b[22m\u001b[34m23\u001b[39m\n",
      "\u001b[36m──\u001b[39m \u001b[1mColumn specification\u001b[22m \u001b[36m────────────────────────────────────────────────────────\u001b[39m\n",
      "\u001b[1mDelimiter:\u001b[22m \";\"\n",
      "\u001b[31mchr\u001b[39m  (14): Wanderungstyp, Wochentag, Staatsangehörigkeit, Geschlecht, Von Ko...\n",
      "\u001b[32mdbl\u001b[39m   (7): Jahr, Monat, Kalenderwoche, Tag-Nr., Alter, Aufenthaltsdauer in J...\n",
      "\u001b[34mdate\u001b[39m  (2): Datum, Startdatum Woche\n",
      "\n",
      "\u001b[36mℹ\u001b[39m Use `spec()` to retrieve the full column specification for this data.\n",
      "\u001b[36mℹ\u001b[39m Specify the column types or set `show_col_types = FALSE` to quiet this message.\n"
     ]
    }
   ],
   "source": [
    "# Load original data\n",
    "original_data <- read_delim(\"raw/100138.csv\", delim = \";\")"
   ]
  },
  {
   "cell_type": "code",
   "execution_count": 95,
   "metadata": {
    "vscode": {
     "languageId": "r"
    }
   },
   "outputs": [
    {
     "data": {
      "text/html": [
       "<table class=\"dataframe\">\n",
       "<caption>A tibble: 6 × 23</caption>\n",
       "<thead>\n",
       "\t<tr><th scope=col>Wanderungstyp</th><th scope=col>Datum</th><th scope=col>Jahr</th><th scope=col>Monat</th><th scope=col>Kalenderwoche</th><th scope=col>Startdatum Woche</th><th scope=col>Tag-Nr.</th><th scope=col>Wochentag</th><th scope=col>Staatsangehörigkeit</th><th scope=col>Geschlecht</th><th scope=col>⋯</th><th scope=col>Von Land</th><th scope=col>Von Kanton</th><th scope=col>Von Gemeinde</th><th scope=col>Von Wohnviertel</th><th scope=col>Nach Kontinent</th><th scope=col>Nach Land</th><th scope=col>Nach Kanton</th><th scope=col>Nach Gemeinde</th><th scope=col>Nach Wohnviertel</th><th scope=col>Anzahl</th></tr>\n",
       "\t<tr><th scope=col>&lt;chr&gt;</th><th scope=col>&lt;date&gt;</th><th scope=col>&lt;dbl&gt;</th><th scope=col>&lt;dbl&gt;</th><th scope=col>&lt;dbl&gt;</th><th scope=col>&lt;date&gt;</th><th scope=col>&lt;dbl&gt;</th><th scope=col>&lt;chr&gt;</th><th scope=col>&lt;chr&gt;</th><th scope=col>&lt;chr&gt;</th><th scope=col>⋯</th><th scope=col>&lt;chr&gt;</th><th scope=col>&lt;chr&gt;</th><th scope=col>&lt;chr&gt;</th><th scope=col>&lt;chr&gt;</th><th scope=col>&lt;chr&gt;</th><th scope=col>&lt;chr&gt;</th><th scope=col>&lt;chr&gt;</th><th scope=col>&lt;chr&gt;</th><th scope=col>&lt;chr&gt;</th><th scope=col>&lt;dbl&gt;</th></tr>\n",
       "</thead>\n",
       "<tbody>\n",
       "\t<tr><td>Zuzug</td><td>2003-08-08</td><td>2003</td><td>8</td><td>32</td><td>2003-08-04</td><td>220</td><td>Fr</td><td>Ausländer</td><td>W</td><td>⋯</td><td>NA</td><td>NA</td><td>NA</td><td>NA</td><td>Schweiz</td><td>Schweiz</td><td>BS</td><td>Riehen</td><td>Riehen      </td><td>1</td></tr>\n",
       "\t<tr><td>Zuzug</td><td>2003-08-08</td><td>2003</td><td>8</td><td>32</td><td>2003-08-04</td><td>220</td><td>Fr</td><td>Ausländer</td><td>W</td><td>⋯</td><td>NA</td><td>NA</td><td>NA</td><td>NA</td><td>Schweiz</td><td>Schweiz</td><td>BS</td><td>Riehen</td><td>Riehen      </td><td>1</td></tr>\n",
       "\t<tr><td>Zuzug</td><td>2003-08-07</td><td>2003</td><td>8</td><td>32</td><td>2003-08-04</td><td>219</td><td>Do</td><td>Ausländer</td><td>M</td><td>⋯</td><td>NA</td><td>NA</td><td>NA</td><td>NA</td><td>Schweiz</td><td>Schweiz</td><td>BS</td><td>Basel </td><td>Breite      </td><td>1</td></tr>\n",
       "\t<tr><td>Zuzug</td><td>2003-08-07</td><td>2003</td><td>8</td><td>32</td><td>2003-08-04</td><td>219</td><td>Do</td><td>Ausländer</td><td>W</td><td>⋯</td><td>NA</td><td>NA</td><td>NA</td><td>NA</td><td>Schweiz</td><td>Schweiz</td><td>BS</td><td>Basel </td><td>Gundeldingen</td><td>1</td></tr>\n",
       "\t<tr><td>Zuzug</td><td>2003-08-07</td><td>2003</td><td>8</td><td>32</td><td>2003-08-04</td><td>219</td><td>Do</td><td>Schweizer</td><td>M</td><td>⋯</td><td>NA</td><td>NA</td><td>NA</td><td>NA</td><td>Schweiz</td><td>Schweiz</td><td>BS</td><td>Basel </td><td>St. Alban   </td><td>2</td></tr>\n",
       "\t<tr><td>Zuzug</td><td>2003-08-07</td><td>2003</td><td>8</td><td>32</td><td>2003-08-04</td><td>219</td><td>Do</td><td>Schweizer</td><td>W</td><td>⋯</td><td>NA</td><td>NA</td><td>NA</td><td>NA</td><td>Schweiz</td><td>Schweiz</td><td>BS</td><td>Basel </td><td>Iselin      </td><td>1</td></tr>\n",
       "</tbody>\n",
       "</table>\n"
      ],
      "text/latex": [
       "A tibble: 6 × 23\n",
       "\\begin{tabular}{lllllllllllllllllllll}\n",
       " Wanderungstyp & Datum & Jahr & Monat & Kalenderwoche & Startdatum Woche & Tag-Nr. & Wochentag & Staatsangehörigkeit & Geschlecht & ⋯ & Von Land & Von Kanton & Von Gemeinde & Von Wohnviertel & Nach Kontinent & Nach Land & Nach Kanton & Nach Gemeinde & Nach Wohnviertel & Anzahl\\\\\n",
       " <chr> & <date> & <dbl> & <dbl> & <dbl> & <date> & <dbl> & <chr> & <chr> & <chr> & ⋯ & <chr> & <chr> & <chr> & <chr> & <chr> & <chr> & <chr> & <chr> & <chr> & <dbl>\\\\\n",
       "\\hline\n",
       "\t Zuzug & 2003-08-08 & 2003 & 8 & 32 & 2003-08-04 & 220 & Fr & Ausländer & W & ⋯ & NA & NA & NA & NA & Schweiz & Schweiz & BS & Riehen & Riehen       & 1\\\\\n",
       "\t Zuzug & 2003-08-08 & 2003 & 8 & 32 & 2003-08-04 & 220 & Fr & Ausländer & W & ⋯ & NA & NA & NA & NA & Schweiz & Schweiz & BS & Riehen & Riehen       & 1\\\\\n",
       "\t Zuzug & 2003-08-07 & 2003 & 8 & 32 & 2003-08-04 & 219 & Do & Ausländer & M & ⋯ & NA & NA & NA & NA & Schweiz & Schweiz & BS & Basel  & Breite       & 1\\\\\n",
       "\t Zuzug & 2003-08-07 & 2003 & 8 & 32 & 2003-08-04 & 219 & Do & Ausländer & W & ⋯ & NA & NA & NA & NA & Schweiz & Schweiz & BS & Basel  & Gundeldingen & 1\\\\\n",
       "\t Zuzug & 2003-08-07 & 2003 & 8 & 32 & 2003-08-04 & 219 & Do & Schweizer & M & ⋯ & NA & NA & NA & NA & Schweiz & Schweiz & BS & Basel  & St. Alban    & 2\\\\\n",
       "\t Zuzug & 2003-08-07 & 2003 & 8 & 32 & 2003-08-04 & 219 & Do & Schweizer & W & ⋯ & NA & NA & NA & NA & Schweiz & Schweiz & BS & Basel  & Iselin       & 1\\\\\n",
       "\\end{tabular}\n"
      ],
      "text/markdown": [
       "\n",
       "A tibble: 6 × 23\n",
       "\n",
       "| Wanderungstyp &lt;chr&gt; | Datum &lt;date&gt; | Jahr &lt;dbl&gt; | Monat &lt;dbl&gt; | Kalenderwoche &lt;dbl&gt; | Startdatum Woche &lt;date&gt; | Tag-Nr. &lt;dbl&gt; | Wochentag &lt;chr&gt; | Staatsangehörigkeit &lt;chr&gt; | Geschlecht &lt;chr&gt; | ⋯ ⋯ | Von Land &lt;chr&gt; | Von Kanton &lt;chr&gt; | Von Gemeinde &lt;chr&gt; | Von Wohnviertel &lt;chr&gt; | Nach Kontinent &lt;chr&gt; | Nach Land &lt;chr&gt; | Nach Kanton &lt;chr&gt; | Nach Gemeinde &lt;chr&gt; | Nach Wohnviertel &lt;chr&gt; | Anzahl &lt;dbl&gt; |\n",
       "|---|---|---|---|---|---|---|---|---|---|---|---|---|---|---|---|---|---|---|---|---|\n",
       "| Zuzug | 2003-08-08 | 2003 | 8 | 32 | 2003-08-04 | 220 | Fr | Ausländer | W | ⋯ | NA | NA | NA | NA | Schweiz | Schweiz | BS | Riehen | Riehen       | 1 |\n",
       "| Zuzug | 2003-08-08 | 2003 | 8 | 32 | 2003-08-04 | 220 | Fr | Ausländer | W | ⋯ | NA | NA | NA | NA | Schweiz | Schweiz | BS | Riehen | Riehen       | 1 |\n",
       "| Zuzug | 2003-08-07 | 2003 | 8 | 32 | 2003-08-04 | 219 | Do | Ausländer | M | ⋯ | NA | NA | NA | NA | Schweiz | Schweiz | BS | Basel  | Breite       | 1 |\n",
       "| Zuzug | 2003-08-07 | 2003 | 8 | 32 | 2003-08-04 | 219 | Do | Ausländer | W | ⋯ | NA | NA | NA | NA | Schweiz | Schweiz | BS | Basel  | Gundeldingen | 1 |\n",
       "| Zuzug | 2003-08-07 | 2003 | 8 | 32 | 2003-08-04 | 219 | Do | Schweizer | M | ⋯ | NA | NA | NA | NA | Schweiz | Schweiz | BS | Basel  | St. Alban    | 2 |\n",
       "| Zuzug | 2003-08-07 | 2003 | 8 | 32 | 2003-08-04 | 219 | Do | Schweizer | W | ⋯ | NA | NA | NA | NA | Schweiz | Schweiz | BS | Basel  | Iselin       | 1 |\n",
       "\n"
      ],
      "text/plain": [
       "  Wanderungstyp Datum      Jahr Monat Kalenderwoche Startdatum Woche Tag-Nr.\n",
       "1 Zuzug         2003-08-08 2003 8     32            2003-08-04       220    \n",
       "2 Zuzug         2003-08-08 2003 8     32            2003-08-04       220    \n",
       "3 Zuzug         2003-08-07 2003 8     32            2003-08-04       219    \n",
       "4 Zuzug         2003-08-07 2003 8     32            2003-08-04       219    \n",
       "5 Zuzug         2003-08-07 2003 8     32            2003-08-04       219    \n",
       "6 Zuzug         2003-08-07 2003 8     32            2003-08-04       219    \n",
       "  Wochentag Staatsangehörigkeit Geschlecht ⋯ Von Land Von Kanton Von Gemeinde\n",
       "1 Fr        Ausländer           W          ⋯ NA       NA         NA          \n",
       "2 Fr        Ausländer           W          ⋯ NA       NA         NA          \n",
       "3 Do        Ausländer           M          ⋯ NA       NA         NA          \n",
       "4 Do        Ausländer           W          ⋯ NA       NA         NA          \n",
       "5 Do        Schweizer           M          ⋯ NA       NA         NA          \n",
       "6 Do        Schweizer           W          ⋯ NA       NA         NA          \n",
       "  Von Wohnviertel Nach Kontinent Nach Land Nach Kanton Nach Gemeinde\n",
       "1 NA              Schweiz        Schweiz   BS          Riehen       \n",
       "2 NA              Schweiz        Schweiz   BS          Riehen       \n",
       "3 NA              Schweiz        Schweiz   BS          Basel        \n",
       "4 NA              Schweiz        Schweiz   BS          Basel        \n",
       "5 NA              Schweiz        Schweiz   BS          Basel        \n",
       "6 NA              Schweiz        Schweiz   BS          Basel        \n",
       "  Nach Wohnviertel Anzahl\n",
       "1 Riehen           1     \n",
       "2 Riehen           1     \n",
       "3 Breite           1     \n",
       "4 Gundeldingen     1     \n",
       "5 St. Alban        2     \n",
       "6 Iselin           1     "
      ]
     },
     "metadata": {},
     "output_type": "display_data"
    }
   ],
   "source": [
    "# Peek into the original data\n",
    "head(original_data)"
   ]
  },
  {
   "cell_type": "code",
   "execution_count": 96,
   "metadata": {
    "vscode": {
     "languageId": "r"
    }
   },
   "outputs": [],
   "source": [
    "data <- filter(original_data, Wanderungstyp != \"Umzug\")"
   ]
  },
  {
   "cell_type": "code",
   "execution_count": 97,
   "metadata": {
    "vscode": {
     "languageId": "r"
    }
   },
   "outputs": [],
   "source": [
    "# Save new dataframe with less columns\n",
    "data <- select(data,\n",
    "  -\"Datum\",\n",
    "  -\"Kalenderwoche\",\n",
    "  -\"Startdatum Woche\",\n",
    "  -\"Tag-Nr.\",\n",
    "  -\"Wochentag\",\n",
    "  -\"Aufenthaltsdauer in Jahren\",\n",
    "  -\"Von Gemeinde\",\n",
    "  -\"Nach Gemeinde\"\n",
    ")"
   ]
  },
  {
   "cell_type": "code",
   "execution_count": 98,
   "metadata": {
    "vscode": {
     "languageId": "r"
    }
   },
   "outputs": [],
   "source": [
    "# Generate factors\n",
    "columns <- c(\n",
    "  \"Wanderungstyp\",\n",
    "  \"Staatsangehörigkeit\",\n",
    "  \"Geschlecht\",\n",
    "  \"Von Kontinent\",\n",
    "  \"Von Land\",\n",
    "  \"Von Kanton\",\n",
    "  \"Von Wohnviertel\",\n",
    "  \"Nach Kontinent\",\n",
    "  \"Nach Land\",\n",
    "  \"Nach Kanton\",\n",
    "  \"Nach Wohnviertel\"\n",
    ")\n",
    "data[, columns] <- lapply(data[, columns], as.factor)"
   ]
  },
  {
   "cell_type": "code",
   "execution_count": 99,
   "metadata": {
    "vscode": {
     "languageId": "r"
    }
   },
   "outputs": [],
   "source": [
    "# Remove spaces from column names\n",
    "colnames(data) <- make.names(colnames(data))"
   ]
  },
  {
   "cell_type": "code",
   "execution_count": 100,
   "metadata": {
    "vscode": {
     "languageId": "r"
    }
   },
   "outputs": [],
   "source": [
    "# Rename column names\n",
    "data <- rename(data,\n",
    "  Staatsangehoerigkeit = Staatsangehörigkeit,\n",
    "  VonKontinent = Von.Kontinent,\n",
    "  VonLand = Von.Land,\n",
    "  VonKanton = Von.Kanton,\n",
    "  VonWohnviertel = Von.Wohnviertel,\n",
    "  NachKontinent = Nach.Kontinent,\n",
    "  NachLand = Nach.Land,\n",
    "  NachKanton = Nach.Kanton,\n",
    "  NachWohnviertel = Nach.Wohnviertel\n",
    ")"
   ]
  },
  {
   "cell_type": "code",
   "execution_count": 101,
   "metadata": {
    "vscode": {
     "languageId": "r"
    }
   },
   "outputs": [],
   "source": [
    "# Sort data\n",
    "data <- arrange(data, Jahr, Monat)"
   ]
  },
  {
   "cell_type": "code",
   "execution_count": 102,
   "metadata": {
    "vscode": {
     "languageId": "r"
    }
   },
   "outputs": [],
   "source": [
    "# Repeat each row n times if Anzahl is > 1\n",
    "# For the final visualization, we want to have an individual data point for each migration\n",
    "\n",
    "# Create a vector of row indices to repeat\n",
    "row_indices <- rep(seq_len(nrow(data)), ifelse(data$Anzahl > 1, data$Anzahl - 1, 0))\n",
    "\n",
    "# Create the expanded dataframe by indexing the original dataframe\n",
    "expanded_data <- data[row_indices, ]"
   ]
  },
  {
   "cell_type": "code",
   "execution_count": 105,
   "metadata": {
    "vscode": {
     "languageId": "r"
    }
   },
   "outputs": [],
   "source": [
    "# Bind the copied rows to the project data\n",
    "data <- rbind(data, expanded_data)"
   ]
  },
  {
   "cell_type": "code",
   "execution_count": 106,
   "metadata": {
    "vscode": {
     "languageId": "r"
    }
   },
   "outputs": [],
   "source": [
    "# Re-sort the project data\n",
    "data <- arrange(data, Jahr, Monat, Alter)"
   ]
  },
  {
   "cell_type": "code",
   "execution_count": 107,
   "metadata": {
    "vscode": {
     "languageId": "r"
    }
   },
   "outputs": [],
   "source": [
    "# Remove the Anzahl column, it's no longer needed\n",
    "data <- select(data, -\"Anzahl\")"
   ]
  },
  {
   "cell_type": "code",
   "execution_count": 108,
   "metadata": {
    "vscode": {
     "languageId": "r"
    }
   },
   "outputs": [
    {
     "data": {
      "text/html": [
       "<table class=\"dataframe\">\n",
       "<caption>A tibble: 6 × 14</caption>\n",
       "<thead>\n",
       "\t<tr><th scope=col>Wanderungstyp</th><th scope=col>Jahr</th><th scope=col>Monat</th><th scope=col>Staatsangehoerigkeit</th><th scope=col>Geschlecht</th><th scope=col>Alter</th><th scope=col>VonKontinent</th><th scope=col>VonLand</th><th scope=col>VonKanton</th><th scope=col>VonWohnviertel</th><th scope=col>NachKontinent</th><th scope=col>NachLand</th><th scope=col>NachKanton</th><th scope=col>NachWohnviertel</th></tr>\n",
       "\t<tr><th scope=col>&lt;fct&gt;</th><th scope=col>&lt;dbl&gt;</th><th scope=col>&lt;dbl&gt;</th><th scope=col>&lt;fct&gt;</th><th scope=col>&lt;fct&gt;</th><th scope=col>&lt;dbl&gt;</th><th scope=col>&lt;fct&gt;</th><th scope=col>&lt;fct&gt;</th><th scope=col>&lt;fct&gt;</th><th scope=col>&lt;fct&gt;</th><th scope=col>&lt;fct&gt;</th><th scope=col>&lt;fct&gt;</th><th scope=col>&lt;fct&gt;</th><th scope=col>&lt;fct&gt;</th></tr>\n",
       "</thead>\n",
       "<tbody>\n",
       "\t<tr><td>Wegzug</td><td>1985</td><td>1</td><td>Ausländer</td><td>M</td><td>0</td><td>Schweiz              </td><td>Schweiz</td><td>BS</td><td>St. Alban</td><td>unbekannt</td><td>NA     </td><td>NA</td><td>NA          </td></tr>\n",
       "\t<tr><td>Zuzug </td><td>1985</td><td>1</td><td>Schweizer</td><td>M</td><td>1</td><td>Schweiz              </td><td>NA     </td><td>NA</td><td>NA       </td><td>Schweiz  </td><td>Schweiz</td><td>BS</td><td>Riehen      </td></tr>\n",
       "\t<tr><td>Zuzug </td><td>1985</td><td>1</td><td>Schweizer</td><td>W</td><td>1</td><td>Schweiz              </td><td>NA     </td><td>NA</td><td>NA       </td><td>Schweiz  </td><td>Schweiz</td><td>BS</td><td>St. Johann  </td></tr>\n",
       "\t<tr><td>Zuzug </td><td>1985</td><td>1</td><td>Ausländer</td><td>W</td><td>1</td><td>Europa (ohne Schweiz)</td><td>NA     </td><td>NA</td><td>NA       </td><td>Schweiz  </td><td>Schweiz</td><td>BS</td><td>Vorstädte   </td></tr>\n",
       "\t<tr><td>Zuzug </td><td>1985</td><td>1</td><td>Ausländer</td><td>M</td><td>1</td><td>Europa (ohne Schweiz)</td><td>NA     </td><td>NA</td><td>NA       </td><td>Schweiz  </td><td>Schweiz</td><td>BS</td><td>Gundeldingen</td></tr>\n",
       "\t<tr><td>Zuzug </td><td>1985</td><td>1</td><td>Ausländer</td><td>M</td><td>1</td><td>Europa (ohne Schweiz)</td><td>NA     </td><td>NA</td><td>NA       </td><td>Schweiz  </td><td>Schweiz</td><td>BS</td><td>St. Alban   </td></tr>\n",
       "</tbody>\n",
       "</table>\n"
      ],
      "text/latex": [
       "A tibble: 6 × 14\n",
       "\\begin{tabular}{llllllllllllll}\n",
       " Wanderungstyp & Jahr & Monat & Staatsangehoerigkeit & Geschlecht & Alter & VonKontinent & VonLand & VonKanton & VonWohnviertel & NachKontinent & NachLand & NachKanton & NachWohnviertel\\\\\n",
       " <fct> & <dbl> & <dbl> & <fct> & <fct> & <dbl> & <fct> & <fct> & <fct> & <fct> & <fct> & <fct> & <fct> & <fct>\\\\\n",
       "\\hline\n",
       "\t Wegzug & 1985 & 1 & Ausländer & M & 0 & Schweiz               & Schweiz & BS & St. Alban & unbekannt & NA      & NA & NA          \\\\\n",
       "\t Zuzug  & 1985 & 1 & Schweizer & M & 1 & Schweiz               & NA      & NA & NA        & Schweiz   & Schweiz & BS & Riehen      \\\\\n",
       "\t Zuzug  & 1985 & 1 & Schweizer & W & 1 & Schweiz               & NA      & NA & NA        & Schweiz   & Schweiz & BS & St. Johann  \\\\\n",
       "\t Zuzug  & 1985 & 1 & Ausländer & W & 1 & Europa (ohne Schweiz) & NA      & NA & NA        & Schweiz   & Schweiz & BS & Vorstädte   \\\\\n",
       "\t Zuzug  & 1985 & 1 & Ausländer & M & 1 & Europa (ohne Schweiz) & NA      & NA & NA        & Schweiz   & Schweiz & BS & Gundeldingen\\\\\n",
       "\t Zuzug  & 1985 & 1 & Ausländer & M & 1 & Europa (ohne Schweiz) & NA      & NA & NA        & Schweiz   & Schweiz & BS & St. Alban   \\\\\n",
       "\\end{tabular}\n"
      ],
      "text/markdown": [
       "\n",
       "A tibble: 6 × 14\n",
       "\n",
       "| Wanderungstyp &lt;fct&gt; | Jahr &lt;dbl&gt; | Monat &lt;dbl&gt; | Staatsangehoerigkeit &lt;fct&gt; | Geschlecht &lt;fct&gt; | Alter &lt;dbl&gt; | VonKontinent &lt;fct&gt; | VonLand &lt;fct&gt; | VonKanton &lt;fct&gt; | VonWohnviertel &lt;fct&gt; | NachKontinent &lt;fct&gt; | NachLand &lt;fct&gt; | NachKanton &lt;fct&gt; | NachWohnviertel &lt;fct&gt; |\n",
       "|---|---|---|---|---|---|---|---|---|---|---|---|---|---|\n",
       "| Wegzug | 1985 | 1 | Ausländer | M | 0 | Schweiz               | Schweiz | BS | St. Alban | unbekannt | NA      | NA | NA           |\n",
       "| Zuzug  | 1985 | 1 | Schweizer | M | 1 | Schweiz               | NA      | NA | NA        | Schweiz   | Schweiz | BS | Riehen       |\n",
       "| Zuzug  | 1985 | 1 | Schweizer | W | 1 | Schweiz               | NA      | NA | NA        | Schweiz   | Schweiz | BS | St. Johann   |\n",
       "| Zuzug  | 1985 | 1 | Ausländer | W | 1 | Europa (ohne Schweiz) | NA      | NA | NA        | Schweiz   | Schweiz | BS | Vorstädte    |\n",
       "| Zuzug  | 1985 | 1 | Ausländer | M | 1 | Europa (ohne Schweiz) | NA      | NA | NA        | Schweiz   | Schweiz | BS | Gundeldingen |\n",
       "| Zuzug  | 1985 | 1 | Ausländer | M | 1 | Europa (ohne Schweiz) | NA      | NA | NA        | Schweiz   | Schweiz | BS | St. Alban    |\n",
       "\n"
      ],
      "text/plain": [
       "  Wanderungstyp Jahr Monat Staatsangehoerigkeit Geschlecht Alter\n",
       "1 Wegzug        1985 1     Ausländer            M          0    \n",
       "2 Zuzug         1985 1     Schweizer            M          1    \n",
       "3 Zuzug         1985 1     Schweizer            W          1    \n",
       "4 Zuzug         1985 1     Ausländer            W          1    \n",
       "5 Zuzug         1985 1     Ausländer            M          1    \n",
       "6 Zuzug         1985 1     Ausländer            M          1    \n",
       "  VonKontinent          VonLand VonKanton VonWohnviertel NachKontinent NachLand\n",
       "1 Schweiz               Schweiz BS        St. Alban      unbekannt     NA      \n",
       "2 Schweiz               NA      NA        NA             Schweiz       Schweiz \n",
       "3 Schweiz               NA      NA        NA             Schweiz       Schweiz \n",
       "4 Europa (ohne Schweiz) NA      NA        NA             Schweiz       Schweiz \n",
       "5 Europa (ohne Schweiz) NA      NA        NA             Schweiz       Schweiz \n",
       "6 Europa (ohne Schweiz) NA      NA        NA             Schweiz       Schweiz \n",
       "  NachKanton NachWohnviertel\n",
       "1 NA         NA             \n",
       "2 BS         Riehen         \n",
       "3 BS         St. Johann     \n",
       "4 BS         Vorstädte      \n",
       "5 BS         Gundeldingen   \n",
       "6 BS         St. Alban      "
      ]
     },
     "metadata": {},
     "output_type": "display_data"
    },
    {
     "data": {
      "text/html": [
       "<table class=\"dataframe\">\n",
       "<caption>A tibble: 6 × 14</caption>\n",
       "<thead>\n",
       "\t<tr><th scope=col>Wanderungstyp</th><th scope=col>Jahr</th><th scope=col>Monat</th><th scope=col>Staatsangehoerigkeit</th><th scope=col>Geschlecht</th><th scope=col>Alter</th><th scope=col>VonKontinent</th><th scope=col>VonLand</th><th scope=col>VonKanton</th><th scope=col>VonWohnviertel</th><th scope=col>NachKontinent</th><th scope=col>NachLand</th><th scope=col>NachKanton</th><th scope=col>NachWohnviertel</th></tr>\n",
       "\t<tr><th scope=col>&lt;fct&gt;</th><th scope=col>&lt;dbl&gt;</th><th scope=col>&lt;dbl&gt;</th><th scope=col>&lt;fct&gt;</th><th scope=col>&lt;fct&gt;</th><th scope=col>&lt;dbl&gt;</th><th scope=col>&lt;fct&gt;</th><th scope=col>&lt;fct&gt;</th><th scope=col>&lt;fct&gt;</th><th scope=col>&lt;fct&gt;</th><th scope=col>&lt;fct&gt;</th><th scope=col>&lt;fct&gt;</th><th scope=col>&lt;fct&gt;</th><th scope=col>&lt;fct&gt;</th></tr>\n",
       "</thead>\n",
       "<tbody>\n",
       "\t<tr><td>Wegzug</td><td>2023</td><td>9</td><td>Ausländer</td><td>M</td><td>81</td><td>Schweiz  </td><td>Schweiz  </td><td>BS       </td><td>Matthäus    </td><td>Schweiz  </td><td>Schweiz  </td><td>BL       </td><td>NA         </td></tr>\n",
       "\t<tr><td>Zuzug </td><td>2023</td><td>9</td><td>Schweizer</td><td>M</td><td>82</td><td>Schweiz  </td><td>Schweiz  </td><td>BL       </td><td>NA          </td><td>Schweiz  </td><td>Schweiz  </td><td>BS       </td><td>Riehen     </td></tr>\n",
       "\t<tr><td>Wegzug</td><td>2023</td><td>9</td><td>Ausländer</td><td>W</td><td>86</td><td>Schweiz  </td><td>Schweiz  </td><td>BS       </td><td>Vorstädte   </td><td>unbekannt</td><td>unbekannt</td><td>unbekannt</td><td>NA         </td></tr>\n",
       "\t<tr><td>Zuzug </td><td>2023</td><td>9</td><td>Schweizer</td><td>W</td><td>86</td><td>Unbekannt</td><td>Unbekannt</td><td>Unbekannt</td><td>NA          </td><td>Schweiz  </td><td>Schweiz  </td><td>BS       </td><td>Hirzbrunnen</td></tr>\n",
       "\t<tr><td>Zuzug </td><td>2023</td><td>9</td><td>Schweizer</td><td>W</td><td>87</td><td>Schweiz  </td><td>Schweiz  </td><td>BL       </td><td>NA          </td><td>Schweiz  </td><td>Schweiz  </td><td>BS       </td><td>St. Johann </td></tr>\n",
       "\t<tr><td>Wegzug</td><td>2023</td><td>9</td><td>Schweizer</td><td>W</td><td>97</td><td>Schweiz  </td><td>Schweiz  </td><td>BS       </td><td>Gundeldingen</td><td>Schweiz  </td><td>Schweiz  </td><td>VS       </td><td>NA         </td></tr>\n",
       "</tbody>\n",
       "</table>\n"
      ],
      "text/latex": [
       "A tibble: 6 × 14\n",
       "\\begin{tabular}{llllllllllllll}\n",
       " Wanderungstyp & Jahr & Monat & Staatsangehoerigkeit & Geschlecht & Alter & VonKontinent & VonLand & VonKanton & VonWohnviertel & NachKontinent & NachLand & NachKanton & NachWohnviertel\\\\\n",
       " <fct> & <dbl> & <dbl> & <fct> & <fct> & <dbl> & <fct> & <fct> & <fct> & <fct> & <fct> & <fct> & <fct> & <fct>\\\\\n",
       "\\hline\n",
       "\t Wegzug & 2023 & 9 & Ausländer & M & 81 & Schweiz   & Schweiz   & BS        & Matthäus     & Schweiz   & Schweiz   & BL        & NA         \\\\\n",
       "\t Zuzug  & 2023 & 9 & Schweizer & M & 82 & Schweiz   & Schweiz   & BL        & NA           & Schweiz   & Schweiz   & BS        & Riehen     \\\\\n",
       "\t Wegzug & 2023 & 9 & Ausländer & W & 86 & Schweiz   & Schweiz   & BS        & Vorstädte    & unbekannt & unbekannt & unbekannt & NA         \\\\\n",
       "\t Zuzug  & 2023 & 9 & Schweizer & W & 86 & Unbekannt & Unbekannt & Unbekannt & NA           & Schweiz   & Schweiz   & BS        & Hirzbrunnen\\\\\n",
       "\t Zuzug  & 2023 & 9 & Schweizer & W & 87 & Schweiz   & Schweiz   & BL        & NA           & Schweiz   & Schweiz   & BS        & St. Johann \\\\\n",
       "\t Wegzug & 2023 & 9 & Schweizer & W & 97 & Schweiz   & Schweiz   & BS        & Gundeldingen & Schweiz   & Schweiz   & VS        & NA         \\\\\n",
       "\\end{tabular}\n"
      ],
      "text/markdown": [
       "\n",
       "A tibble: 6 × 14\n",
       "\n",
       "| Wanderungstyp &lt;fct&gt; | Jahr &lt;dbl&gt; | Monat &lt;dbl&gt; | Staatsangehoerigkeit &lt;fct&gt; | Geschlecht &lt;fct&gt; | Alter &lt;dbl&gt; | VonKontinent &lt;fct&gt; | VonLand &lt;fct&gt; | VonKanton &lt;fct&gt; | VonWohnviertel &lt;fct&gt; | NachKontinent &lt;fct&gt; | NachLand &lt;fct&gt; | NachKanton &lt;fct&gt; | NachWohnviertel &lt;fct&gt; |\n",
       "|---|---|---|---|---|---|---|---|---|---|---|---|---|---|\n",
       "| Wegzug | 2023 | 9 | Ausländer | M | 81 | Schweiz   | Schweiz   | BS        | Matthäus     | Schweiz   | Schweiz   | BL        | NA          |\n",
       "| Zuzug  | 2023 | 9 | Schweizer | M | 82 | Schweiz   | Schweiz   | BL        | NA           | Schweiz   | Schweiz   | BS        | Riehen      |\n",
       "| Wegzug | 2023 | 9 | Ausländer | W | 86 | Schweiz   | Schweiz   | BS        | Vorstädte    | unbekannt | unbekannt | unbekannt | NA          |\n",
       "| Zuzug  | 2023 | 9 | Schweizer | W | 86 | Unbekannt | Unbekannt | Unbekannt | NA           | Schweiz   | Schweiz   | BS        | Hirzbrunnen |\n",
       "| Zuzug  | 2023 | 9 | Schweizer | W | 87 | Schweiz   | Schweiz   | BL        | NA           | Schweiz   | Schweiz   | BS        | St. Johann  |\n",
       "| Wegzug | 2023 | 9 | Schweizer | W | 97 | Schweiz   | Schweiz   | BS        | Gundeldingen | Schweiz   | Schweiz   | VS        | NA          |\n",
       "\n"
      ],
      "text/plain": [
       "  Wanderungstyp Jahr Monat Staatsangehoerigkeit Geschlecht Alter VonKontinent\n",
       "1 Wegzug        2023 9     Ausländer            M          81    Schweiz     \n",
       "2 Zuzug         2023 9     Schweizer            M          82    Schweiz     \n",
       "3 Wegzug        2023 9     Ausländer            W          86    Schweiz     \n",
       "4 Zuzug         2023 9     Schweizer            W          86    Unbekannt   \n",
       "5 Zuzug         2023 9     Schweizer            W          87    Schweiz     \n",
       "6 Wegzug        2023 9     Schweizer            W          97    Schweiz     \n",
       "  VonLand   VonKanton VonWohnviertel NachKontinent NachLand  NachKanton\n",
       "1 Schweiz   BS        Matthäus       Schweiz       Schweiz   BL        \n",
       "2 Schweiz   BL        NA             Schweiz       Schweiz   BS        \n",
       "3 Schweiz   BS        Vorstädte      unbekannt     unbekannt unbekannt \n",
       "4 Unbekannt Unbekannt NA             Schweiz       Schweiz   BS        \n",
       "5 Schweiz   BL        NA             Schweiz       Schweiz   BS        \n",
       "6 Schweiz   BS        Gundeldingen   Schweiz       Schweiz   VS        \n",
       "  NachWohnviertel\n",
       "1 NA             \n",
       "2 Riehen         \n",
       "3 NA             \n",
       "4 Hirzbrunnen    \n",
       "5 St. Johann     \n",
       "6 NA             "
      ]
     },
     "metadata": {},
     "output_type": "display_data"
    },
    {
     "data": {
      "text/plain": [
       " Wanderungstyp        Jahr          Monat        Staatsangehoerigkeit\n",
       " Wegzug:476652   Min.   :1985   Min.   : 1.000   Ausländer:525898    \n",
       " Zuzug :503397   1st Qu.:1994   1st Qu.: 4.000   Schweizer:454151    \n",
       "                 Median :2005   Median : 7.000                       \n",
       "                 Mean   :2004   Mean   : 6.667                       \n",
       "                 3rd Qu.:2014   3rd Qu.:10.000                       \n",
       "                 Max.   :2023   Max.   :12.000                       \n",
       "                                                                     \n",
       " Geschlecht     Alter                           VonKontinent   \n",
       " M:526448   Min.   :  0.00   Schweiz                  :717745  \n",
       " W:453601   1st Qu.: 23.00   Europa (ohne Schweiz)    :197247  \n",
       "            Median : 29.00   Asien                    : 18002  \n",
       "            Mean   : 30.73   Unbekannt                : 17432  \n",
       "            3rd Qu.: 37.00   Nordamerika              : 16821  \n",
       "            Max.   :138.00   Lateinamerika und Karibik:  6846  \n",
       "                             (Other)                  :  5956  \n",
       "                           VonLand           VonKanton     \n",
       " Schweiz                       :584112   BS       :476653  \n",
       " Deutschland                   : 39021   Unbekannt:142106  \n",
       " Vereinigte Staaten von Amerika:  8450   BL       : 43466  \n",
       " Grossbritannien               :  7777   AG       : 12291  \n",
       " Frankreich                    :  7701   ZH       : 12157  \n",
       " (Other)                       : 79156   (Other)  : 39544  \n",
       " NA's                          :253832   NA's     :253832  \n",
       "      VonWohnviertel                     NachKontinent   \n",
       " Gundeldingen: 59499   Schweiz                  :631841  \n",
       " St. Johann  : 52204   unbekannt                :269617  \n",
       " Matthäus    : 49635   Europa (ohne Schweiz)    : 55601  \n",
       " Iselin      : 39021   Asien                    : 10496  \n",
       " Am Ring     : 35127   Nordamerika              :  7016  \n",
       " (Other)     :241166   Lateinamerika und Karibik:  2744  \n",
       " NA's        :503397   (Other)                  :  2734  \n",
       "                           NachLand          NachKanton    \n",
       " Schweiz                       :631632   BS       :503397  \n",
       " unbekannt                     : 21864   Ausland  : 78163  \n",
       " Deutschland                   : 21098   BL       : 64812  \n",
       " Frankreich                    :  7284   unbekannt: 21864  \n",
       " Vereinigte Staaten von Amerika:  6092   ZH       : 14370  \n",
       " (Other)                       : 43689   (Other)  : 49053  \n",
       " NA's                          :248390   NA's     :248390  \n",
       "     NachWohnviertel  \n",
       " Gundeldingen: 65213  \n",
       " Matthäus    : 54718  \n",
       " St. Johann  : 54280  \n",
       " Am Ring     : 41853  \n",
       " Iselin      : 36717  \n",
       " (Other)     :250614  \n",
       " NA's        :476654  "
      ]
     },
     "metadata": {},
     "output_type": "display_data"
    }
   ],
   "source": [
    "# Peek into the project data\n",
    "head(data)\n",
    "tail(data)\n",
    "summary(data)"
   ]
  },
  {
   "cell_type": "code",
   "execution_count": 109,
   "metadata": {
    "vscode": {
     "languageId": "r"
    }
   },
   "outputs": [],
   "source": [
    "# Save project data as CSV\n",
    "write_csv(data, \"tidy/migration.csv\")"
   ]
  },
  {
   "cell_type": "code",
   "execution_count": 110,
   "metadata": {
    "vscode": {
     "languageId": "r"
    }
   },
   "outputs": [],
   "source": [
    "# In order to host the data on GitHub, we need to divide the migration data into smaller chunks.\n",
    "# GitHub has a file size limit of 50MB.\n",
    "# However, we are going to create much more chunks - one per month!!\n",
    "# On the website, users will be able to select a starting year and month.\n",
    "# The site will load only the needed data.\n",
    "# Once the animation is done, the subsequent data will be loaded."
   ]
  },
  {
   "cell_type": "code",
   "execution_count": 111,
   "metadata": {
    "vscode": {
     "languageId": "r"
    }
   },
   "outputs": [
    {
     "name": "stderr",
     "output_type": "stream",
     "text": [
      "\u001b[1mRows: \u001b[22m\u001b[34m980049\u001b[39m \u001b[1mColumns: \u001b[22m\u001b[34m14\u001b[39m\n",
      "\u001b[36m──\u001b[39m \u001b[1mColumn specification\u001b[22m \u001b[36m────────────────────────────────────────────────────────\u001b[39m\n",
      "\u001b[1mDelimiter:\u001b[22m \",\"\n",
      "\u001b[31mchr\u001b[39m (11): Wanderungstyp, Staatsangehoerigkeit, Geschlecht, VonKontinent, Von...\n",
      "\u001b[32mdbl\u001b[39m  (3): Jahr, Monat, Alter\n",
      "\n",
      "\u001b[36mℹ\u001b[39m Use `spec()` to retrieve the full column specification for this data.\n",
      "\u001b[36mℹ\u001b[39m Specify the column types or set `show_col_types = FALSE` to quiet this message.\n"
     ]
    }
   ],
   "source": [
    "# Read final data\n",
    "final_data <- read_delim(\"tidy/migration.csv\", delim = \",\")"
   ]
  },
  {
   "cell_type": "code",
   "execution_count": 112,
   "metadata": {
    "vscode": {
     "languageId": "r"
    }
   },
   "outputs": [],
   "source": [
    "chunks <- final_data %>%\n",
    "  mutate(Jahr_Monat = paste(Jahr, Monat, sep = \"-\")) %>%\n",
    "  group_by(Jahr_Monat) %>%\n",
    "  group_split()"
   ]
  },
  {
   "cell_type": "code",
   "execution_count": 113,
   "metadata": {
    "vscode": {
     "languageId": "r"
    }
   },
   "outputs": [],
   "source": [
    "# Approach of creating chunks of data based on number of rows\n",
    "# chunk_size <- 300000\n",
    "# chunks <- split(final_data, (seq_len(nrow(final_data)) - 1) %/% chunk_size)"
   ]
  },
  {
   "cell_type": "code",
   "execution_count": 114,
   "metadata": {
    "vscode": {
     "languageId": "r"
    }
   },
   "outputs": [],
   "source": [
    "# Save each chunk as a separate csv file\n",
    "output_dir <- \"tidy/chunks/\"\n",
    "for (i in seq_along(chunks)) {\n",
    "  write_csv(chunks[[i]], paste0(output_dir, chunks[[i]][1, \"Jahr_Monat\"], \".csv\"))\n",
    "}"
   ]
  }
 ],
 "metadata": {
  "kernelspec": {
   "display_name": "R",
   "language": "R",
   "name": "ir"
  },
  "language_info": {
   "codemirror_mode": "r",
   "file_extension": ".r",
   "mimetype": "text/x-r-source",
   "name": "R",
   "pygments_lexer": "r",
   "version": "4.3.3"
  }
 },
 "nbformat": 4,
 "nbformat_minor": 2
}
