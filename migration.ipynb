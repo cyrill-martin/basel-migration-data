{
 "cells": [
  {
   "cell_type": "code",
   "execution_count": 2,
   "metadata": {
    "vscode": {
     "languageId": "r"
    }
   },
   "outputs": [
    {
     "name": "stderr",
     "output_type": "stream",
     "text": [
      "── \u001b[1mAttaching core tidyverse packages\u001b[22m ──────────────────────── tidyverse 2.0.0 ──\n",
      "\u001b[32m✔\u001b[39m \u001b[34mdplyr    \u001b[39m 1.1.4     \u001b[32m✔\u001b[39m \u001b[34mreadr    \u001b[39m 2.1.5\n",
      "\u001b[32m✔\u001b[39m \u001b[34mforcats  \u001b[39m 1.0.0     \u001b[32m✔\u001b[39m \u001b[34mstringr  \u001b[39m 1.5.1\n",
      "\u001b[32m✔\u001b[39m \u001b[34mggplot2  \u001b[39m 3.5.0     \u001b[32m✔\u001b[39m \u001b[34mtibble   \u001b[39m 3.2.1\n",
      "\u001b[32m✔\u001b[39m \u001b[34mlubridate\u001b[39m 1.9.3     \u001b[32m✔\u001b[39m \u001b[34mtidyr    \u001b[39m 1.3.1\n",
      "\u001b[32m✔\u001b[39m \u001b[34mpurrr    \u001b[39m 1.0.2     \n",
      "── \u001b[1mConflicts\u001b[22m ────────────────────────────────────────── tidyverse_conflicts() ──\n",
      "\u001b[31m✖\u001b[39m \u001b[34mdplyr\u001b[39m::\u001b[32mfilter()\u001b[39m masks \u001b[34mstats\u001b[39m::filter()\n",
      "\u001b[31m✖\u001b[39m \u001b[34mdplyr\u001b[39m::\u001b[32mlag()\u001b[39m    masks \u001b[34mstats\u001b[39m::lag()\n",
      "\u001b[36mℹ\u001b[39m Use the conflicted package (\u001b[3m\u001b[34m<http://conflicted.r-lib.org/>\u001b[39m\u001b[23m) to force all conflicts to become errors\n"
     ]
    }
   ],
   "source": [
    "# Load libraries\n",
    "library(tidyverse)"
   ]
  },
  {
   "cell_type": "code",
   "execution_count": 1,
   "metadata": {
    "vscode": {
     "languageId": "r"
    }
   },
   "outputs": [],
   "source": [
    "# This cell downloads the original data from data.bs.ch and saves it in the raw folder\n",
    "# It has been downloaded on 2024-03-01\n",
    "\n",
    "# download_link <- \"https://data.bs.ch/api/explore/v2.1/catalog/datasets/100138/exports/csv?lang=de&timezone=Europe%2FBerlin&use_labels=true&delimiter=%3B\"\n",
    "# download.file(download_link, destfile = \"/raw/100138.csv\")"
   ]
  },
  {
   "cell_type": "code",
   "execution_count": 4,
   "metadata": {
    "vscode": {
     "languageId": "r"
    }
   },
   "outputs": [
    {
     "name": "stderr",
     "output_type": "stream",
     "text": [
      "\u001b[1mRows: \u001b[22m\u001b[34m1664159\u001b[39m \u001b[1mColumns: \u001b[22m\u001b[34m23\u001b[39m\n",
      "\u001b[36m──\u001b[39m \u001b[1mColumn specification\u001b[22m \u001b[36m────────────────────────────────────────────────────────\u001b[39m\n",
      "\u001b[1mDelimiter:\u001b[22m \";\"\n",
      "\u001b[31mchr\u001b[39m  (14): Wanderungstyp, Wochentag, Staatsangehörigkeit, Geschlecht, Von Ko...\n",
      "\u001b[32mdbl\u001b[39m   (7): Jahr, Monat, Kalenderwoche, Tag-Nr., Alter, Aufenthaltsdauer in J...\n",
      "\u001b[34mdate\u001b[39m  (2): Datum, Startdatum Woche\n",
      "\n",
      "\u001b[36mℹ\u001b[39m Use `spec()` to retrieve the full column specification for this data.\n",
      "\u001b[36mℹ\u001b[39m Specify the column types or set `show_col_types = FALSE` to quiet this message.\n"
     ]
    }
   ],
   "source": [
    "# Load original data\n",
    "original_data <- read_delim(\"raw/100138.csv\", delim = \";\")"
   ]
  },
  {
   "cell_type": "code",
   "execution_count": 28,
   "metadata": {
    "vscode": {
     "languageId": "r"
    }
   },
   "outputs": [
    {
     "data": {
      "text/html": [
       "<table class=\"dataframe\">\n",
       "<caption>A tibble: 6 × 23</caption>\n",
       "<thead>\n",
       "\t<tr><th scope=col>Wanderungstyp</th><th scope=col>Datum</th><th scope=col>Jahr</th><th scope=col>Monat</th><th scope=col>Kalenderwoche</th><th scope=col>Startdatum Woche</th><th scope=col>Tag-Nr.</th><th scope=col>Wochentag</th><th scope=col>Staatsangehörigkeit</th><th scope=col>Geschlecht</th><th scope=col>⋯</th><th scope=col>Von Land</th><th scope=col>Von Kanton</th><th scope=col>Von Gemeinde</th><th scope=col>Von Wohnviertel</th><th scope=col>Nach Kontinent</th><th scope=col>Nach Land</th><th scope=col>Nach Kanton</th><th scope=col>Nach Gemeinde</th><th scope=col>Nach Wohnviertel</th><th scope=col>Anzahl</th></tr>\n",
       "\t<tr><th scope=col>&lt;chr&gt;</th><th scope=col>&lt;date&gt;</th><th scope=col>&lt;dbl&gt;</th><th scope=col>&lt;dbl&gt;</th><th scope=col>&lt;dbl&gt;</th><th scope=col>&lt;date&gt;</th><th scope=col>&lt;dbl&gt;</th><th scope=col>&lt;chr&gt;</th><th scope=col>&lt;chr&gt;</th><th scope=col>&lt;chr&gt;</th><th scope=col>⋯</th><th scope=col>&lt;chr&gt;</th><th scope=col>&lt;chr&gt;</th><th scope=col>&lt;chr&gt;</th><th scope=col>&lt;chr&gt;</th><th scope=col>&lt;chr&gt;</th><th scope=col>&lt;chr&gt;</th><th scope=col>&lt;chr&gt;</th><th scope=col>&lt;chr&gt;</th><th scope=col>&lt;chr&gt;</th><th scope=col>&lt;dbl&gt;</th></tr>\n",
       "</thead>\n",
       "<tbody>\n",
       "\t<tr><td>Zuzug</td><td>2003-08-08</td><td>2003</td><td>8</td><td>32</td><td>2003-08-04</td><td>220</td><td>Fr</td><td>Ausländer</td><td>W</td><td>⋯</td><td>NA</td><td>NA</td><td>NA</td><td>NA</td><td>Schweiz</td><td>Schweiz</td><td>BS</td><td>Riehen</td><td>Riehen      </td><td>1</td></tr>\n",
       "\t<tr><td>Zuzug</td><td>2003-08-08</td><td>2003</td><td>8</td><td>32</td><td>2003-08-04</td><td>220</td><td>Fr</td><td>Ausländer</td><td>W</td><td>⋯</td><td>NA</td><td>NA</td><td>NA</td><td>NA</td><td>Schweiz</td><td>Schweiz</td><td>BS</td><td>Riehen</td><td>Riehen      </td><td>1</td></tr>\n",
       "\t<tr><td>Zuzug</td><td>2003-08-07</td><td>2003</td><td>8</td><td>32</td><td>2003-08-04</td><td>219</td><td>Do</td><td>Ausländer</td><td>M</td><td>⋯</td><td>NA</td><td>NA</td><td>NA</td><td>NA</td><td>Schweiz</td><td>Schweiz</td><td>BS</td><td>Basel </td><td>Breite      </td><td>1</td></tr>\n",
       "\t<tr><td>Zuzug</td><td>2003-08-07</td><td>2003</td><td>8</td><td>32</td><td>2003-08-04</td><td>219</td><td>Do</td><td>Ausländer</td><td>W</td><td>⋯</td><td>NA</td><td>NA</td><td>NA</td><td>NA</td><td>Schweiz</td><td>Schweiz</td><td>BS</td><td>Basel </td><td>Gundeldingen</td><td>1</td></tr>\n",
       "\t<tr><td>Zuzug</td><td>2003-08-07</td><td>2003</td><td>8</td><td>32</td><td>2003-08-04</td><td>219</td><td>Do</td><td>Schweizer</td><td>M</td><td>⋯</td><td>NA</td><td>NA</td><td>NA</td><td>NA</td><td>Schweiz</td><td>Schweiz</td><td>BS</td><td>Basel </td><td>St. Alban   </td><td>2</td></tr>\n",
       "\t<tr><td>Zuzug</td><td>2003-08-07</td><td>2003</td><td>8</td><td>32</td><td>2003-08-04</td><td>219</td><td>Do</td><td>Schweizer</td><td>W</td><td>⋯</td><td>NA</td><td>NA</td><td>NA</td><td>NA</td><td>Schweiz</td><td>Schweiz</td><td>BS</td><td>Basel </td><td>Iselin      </td><td>1</td></tr>\n",
       "</tbody>\n",
       "</table>\n"
      ],
      "text/latex": [
       "A tibble: 6 × 23\n",
       "\\begin{tabular}{lllllllllllllllllllll}\n",
       " Wanderungstyp & Datum & Jahr & Monat & Kalenderwoche & Startdatum Woche & Tag-Nr. & Wochentag & Staatsangehörigkeit & Geschlecht & ⋯ & Von Land & Von Kanton & Von Gemeinde & Von Wohnviertel & Nach Kontinent & Nach Land & Nach Kanton & Nach Gemeinde & Nach Wohnviertel & Anzahl\\\\\n",
       " <chr> & <date> & <dbl> & <dbl> & <dbl> & <date> & <dbl> & <chr> & <chr> & <chr> & ⋯ & <chr> & <chr> & <chr> & <chr> & <chr> & <chr> & <chr> & <chr> & <chr> & <dbl>\\\\\n",
       "\\hline\n",
       "\t Zuzug & 2003-08-08 & 2003 & 8 & 32 & 2003-08-04 & 220 & Fr & Ausländer & W & ⋯ & NA & NA & NA & NA & Schweiz & Schweiz & BS & Riehen & Riehen       & 1\\\\\n",
       "\t Zuzug & 2003-08-08 & 2003 & 8 & 32 & 2003-08-04 & 220 & Fr & Ausländer & W & ⋯ & NA & NA & NA & NA & Schweiz & Schweiz & BS & Riehen & Riehen       & 1\\\\\n",
       "\t Zuzug & 2003-08-07 & 2003 & 8 & 32 & 2003-08-04 & 219 & Do & Ausländer & M & ⋯ & NA & NA & NA & NA & Schweiz & Schweiz & BS & Basel  & Breite       & 1\\\\\n",
       "\t Zuzug & 2003-08-07 & 2003 & 8 & 32 & 2003-08-04 & 219 & Do & Ausländer & W & ⋯ & NA & NA & NA & NA & Schweiz & Schweiz & BS & Basel  & Gundeldingen & 1\\\\\n",
       "\t Zuzug & 2003-08-07 & 2003 & 8 & 32 & 2003-08-04 & 219 & Do & Schweizer & M & ⋯ & NA & NA & NA & NA & Schweiz & Schweiz & BS & Basel  & St. Alban    & 2\\\\\n",
       "\t Zuzug & 2003-08-07 & 2003 & 8 & 32 & 2003-08-04 & 219 & Do & Schweizer & W & ⋯ & NA & NA & NA & NA & Schweiz & Schweiz & BS & Basel  & Iselin       & 1\\\\\n",
       "\\end{tabular}\n"
      ],
      "text/markdown": [
       "\n",
       "A tibble: 6 × 23\n",
       "\n",
       "| Wanderungstyp &lt;chr&gt; | Datum &lt;date&gt; | Jahr &lt;dbl&gt; | Monat &lt;dbl&gt; | Kalenderwoche &lt;dbl&gt; | Startdatum Woche &lt;date&gt; | Tag-Nr. &lt;dbl&gt; | Wochentag &lt;chr&gt; | Staatsangehörigkeit &lt;chr&gt; | Geschlecht &lt;chr&gt; | ⋯ ⋯ | Von Land &lt;chr&gt; | Von Kanton &lt;chr&gt; | Von Gemeinde &lt;chr&gt; | Von Wohnviertel &lt;chr&gt; | Nach Kontinent &lt;chr&gt; | Nach Land &lt;chr&gt; | Nach Kanton &lt;chr&gt; | Nach Gemeinde &lt;chr&gt; | Nach Wohnviertel &lt;chr&gt; | Anzahl &lt;dbl&gt; |\n",
       "|---|---|---|---|---|---|---|---|---|---|---|---|---|---|---|---|---|---|---|---|---|\n",
       "| Zuzug | 2003-08-08 | 2003 | 8 | 32 | 2003-08-04 | 220 | Fr | Ausländer | W | ⋯ | NA | NA | NA | NA | Schweiz | Schweiz | BS | Riehen | Riehen       | 1 |\n",
       "| Zuzug | 2003-08-08 | 2003 | 8 | 32 | 2003-08-04 | 220 | Fr | Ausländer | W | ⋯ | NA | NA | NA | NA | Schweiz | Schweiz | BS | Riehen | Riehen       | 1 |\n",
       "| Zuzug | 2003-08-07 | 2003 | 8 | 32 | 2003-08-04 | 219 | Do | Ausländer | M | ⋯ | NA | NA | NA | NA | Schweiz | Schweiz | BS | Basel  | Breite       | 1 |\n",
       "| Zuzug | 2003-08-07 | 2003 | 8 | 32 | 2003-08-04 | 219 | Do | Ausländer | W | ⋯ | NA | NA | NA | NA | Schweiz | Schweiz | BS | Basel  | Gundeldingen | 1 |\n",
       "| Zuzug | 2003-08-07 | 2003 | 8 | 32 | 2003-08-04 | 219 | Do | Schweizer | M | ⋯ | NA | NA | NA | NA | Schweiz | Schweiz | BS | Basel  | St. Alban    | 2 |\n",
       "| Zuzug | 2003-08-07 | 2003 | 8 | 32 | 2003-08-04 | 219 | Do | Schweizer | W | ⋯ | NA | NA | NA | NA | Schweiz | Schweiz | BS | Basel  | Iselin       | 1 |\n",
       "\n"
      ],
      "text/plain": [
       "  Wanderungstyp Datum      Jahr Monat Kalenderwoche Startdatum Woche Tag-Nr.\n",
       "1 Zuzug         2003-08-08 2003 8     32            2003-08-04       220    \n",
       "2 Zuzug         2003-08-08 2003 8     32            2003-08-04       220    \n",
       "3 Zuzug         2003-08-07 2003 8     32            2003-08-04       219    \n",
       "4 Zuzug         2003-08-07 2003 8     32            2003-08-04       219    \n",
       "5 Zuzug         2003-08-07 2003 8     32            2003-08-04       219    \n",
       "6 Zuzug         2003-08-07 2003 8     32            2003-08-04       219    \n",
       "  Wochentag Staatsangehörigkeit Geschlecht ⋯ Von Land Von Kanton Von Gemeinde\n",
       "1 Fr        Ausländer           W          ⋯ NA       NA         NA          \n",
       "2 Fr        Ausländer           W          ⋯ NA       NA         NA          \n",
       "3 Do        Ausländer           M          ⋯ NA       NA         NA          \n",
       "4 Do        Ausländer           W          ⋯ NA       NA         NA          \n",
       "5 Do        Schweizer           M          ⋯ NA       NA         NA          \n",
       "6 Do        Schweizer           W          ⋯ NA       NA         NA          \n",
       "  Von Wohnviertel Nach Kontinent Nach Land Nach Kanton Nach Gemeinde\n",
       "1 NA              Schweiz        Schweiz   BS          Riehen       \n",
       "2 NA              Schweiz        Schweiz   BS          Riehen       \n",
       "3 NA              Schweiz        Schweiz   BS          Basel        \n",
       "4 NA              Schweiz        Schweiz   BS          Basel        \n",
       "5 NA              Schweiz        Schweiz   BS          Basel        \n",
       "6 NA              Schweiz        Schweiz   BS          Basel        \n",
       "  Nach Wohnviertel Anzahl\n",
       "1 Riehen           1     \n",
       "2 Riehen           1     \n",
       "3 Breite           1     \n",
       "4 Gundeldingen     1     \n",
       "5 St. Alban        2     \n",
       "6 Iselin           1     "
      ]
     },
     "metadata": {},
     "output_type": "display_data"
    }
   ],
   "source": [
    "# Peek into the original data\n",
    "head(original_data)"
   ]
  },
  {
   "cell_type": "code",
   "execution_count": 41,
   "metadata": {
    "vscode": {
     "languageId": "r"
    }
   },
   "outputs": [],
   "source": [
    "data <- filter(original_data, Wanderungstyp != \"Umzug\")"
   ]
  },
  {
   "cell_type": "code",
   "execution_count": 42,
   "metadata": {
    "vscode": {
     "languageId": "r"
    }
   },
   "outputs": [],
   "source": [
    "# Save new dataframe with less columns\n",
    "data <- select(data,\n",
    "  -\"Datum\",\n",
    "  -\"Kalenderwoche\",\n",
    "  -\"Startdatum Woche\",\n",
    "  -\"Tag-Nr.\",\n",
    "  -\"Wochentag\",\n",
    "  -\"Aufenthaltsdauer in Jahren\",\n",
    "  -\"Von Gemeinde\",\n",
    "  -\"Nach Gemeinde\"\n",
    ")"
   ]
  },
  {
   "cell_type": "code",
   "execution_count": 43,
   "metadata": {
    "vscode": {
     "languageId": "r"
    }
   },
   "outputs": [],
   "source": [
    "# Generate factors\n",
    "columns <- c(\n",
    "  \"Wanderungstyp\",\n",
    "  \"Staatsangehörigkeit\",\n",
    "  \"Geschlecht\",\n",
    "  \"Von Kontinent\",\n",
    "  \"Von Land\",\n",
    "  \"Von Kanton\",\n",
    "  \"Von Wohnviertel\",\n",
    "  \"Nach Kontinent\",\n",
    "  \"Nach Land\",\n",
    "  \"Nach Kanton\",\n",
    "  \"Nach Wohnviertel\"\n",
    ")\n",
    "data[, columns] <- lapply(data[, columns], as.factor)"
   ]
  },
  {
   "cell_type": "code",
   "execution_count": 44,
   "metadata": {
    "vscode": {
     "languageId": "r"
    }
   },
   "outputs": [],
   "source": [
    "# Remove spaces from column names\n",
    "colnames(data) <- make.names(colnames(data))"
   ]
  },
  {
   "cell_type": "code",
   "execution_count": 45,
   "metadata": {
    "vscode": {
     "languageId": "r"
    }
   },
   "outputs": [],
   "source": [
    "# Rename column names\n",
    "data <- rename(data,\n",
    "  Staatsangehoerigkeit = Staatsangehörigkeit,\n",
    "  VonKontinent = Von.Kontinent,\n",
    "  VonLand = Von.Land,\n",
    "  VonKanton = Von.Kanton,\n",
    "  VonWohnviertel = Von.Wohnviertel,\n",
    "  NachKontinent = Nach.Kontinent,\n",
    "  NachLand = Nach.Land,\n",
    "  NachKanton = Nach.Kanton,\n",
    "  NachWohnviertel = Nach.Wohnviertel\n",
    ")"
   ]
  },
  {
   "cell_type": "code",
   "execution_count": 46,
   "metadata": {
    "vscode": {
     "languageId": "r"
    }
   },
   "outputs": [],
   "source": [
    "# Sort data\n",
    "data <- arrange(data, Jahr, Monat)"
   ]
  },
  {
   "cell_type": "code",
   "execution_count": 47,
   "metadata": {
    "vscode": {
     "languageId": "r"
    }
   },
   "outputs": [],
   "source": [
    "# Repeat each row n times if Anzahl is > 1\n",
    "# For the final visualization, we want to have an individual data point for each migration\n",
    "\n",
    "# Create a vector of row indices to repeat\n",
    "row_indices <- rep(seq_len(nrow(data)), ifelse(data$Anzahl > 1, data$Anzahl - 1, 0))\n",
    "\n",
    "# Create the expanded dataframe by indexing the original dataframe\n",
    "expanded_data <- data[row_indices, ]"
   ]
  },
  {
   "cell_type": "code",
   "execution_count": 48,
   "metadata": {
    "vscode": {
     "languageId": "r"
    }
   },
   "outputs": [],
   "source": [
    "# Bind the copied rows to the project data\n",
    "data <- rbind(data, expanded_data)"
   ]
  },
  {
   "cell_type": "code",
   "execution_count": 49,
   "metadata": {
    "vscode": {
     "languageId": "r"
    }
   },
   "outputs": [],
   "source": [
    "# Re-sort the project data\n",
    "data <- arrange(data, Jahr, Monat, Alter)"
   ]
  },
  {
   "cell_type": "code",
   "execution_count": 50,
   "metadata": {
    "vscode": {
     "languageId": "r"
    }
   },
   "outputs": [],
   "source": [
    "# Remove the Anzahl column, it's no longer needed\n",
    "data <- select(data, -\"Anzahl\")"
   ]
  },
  {
   "cell_type": "code",
   "execution_count": 51,
   "metadata": {
    "vscode": {
     "languageId": "r"
    }
   },
   "outputs": [
    {
     "data": {
      "text/html": [
       "<table class=\"dataframe\">\n",
       "<caption>A tibble: 6 × 14</caption>\n",
       "<thead>\n",
       "\t<tr><th scope=col>Wanderungstyp</th><th scope=col>Jahr</th><th scope=col>Monat</th><th scope=col>Staatsangehoerigkeit</th><th scope=col>Geschlecht</th><th scope=col>Alter</th><th scope=col>VonKontinent</th><th scope=col>VonLand</th><th scope=col>VonKanton</th><th scope=col>VonWohnviertel</th><th scope=col>NachKontinent</th><th scope=col>NachLand</th><th scope=col>NachKanton</th><th scope=col>NachWohnviertel</th></tr>\n",
       "\t<tr><th scope=col>&lt;fct&gt;</th><th scope=col>&lt;dbl&gt;</th><th scope=col>&lt;dbl&gt;</th><th scope=col>&lt;fct&gt;</th><th scope=col>&lt;fct&gt;</th><th scope=col>&lt;dbl&gt;</th><th scope=col>&lt;fct&gt;</th><th scope=col>&lt;fct&gt;</th><th scope=col>&lt;fct&gt;</th><th scope=col>&lt;fct&gt;</th><th scope=col>&lt;fct&gt;</th><th scope=col>&lt;fct&gt;</th><th scope=col>&lt;fct&gt;</th><th scope=col>&lt;fct&gt;</th></tr>\n",
       "</thead>\n",
       "<tbody>\n",
       "\t<tr><td>Wegzug</td><td>1985</td><td>1</td><td>Ausländer</td><td>M</td><td>0</td><td>Schweiz              </td><td>Schweiz</td><td>BS</td><td>St. Alban</td><td>unbekannt</td><td>NA     </td><td>NA</td><td>NA          </td></tr>\n",
       "\t<tr><td>Zuzug </td><td>1985</td><td>1</td><td>Schweizer</td><td>M</td><td>1</td><td>Schweiz              </td><td>NA     </td><td>NA</td><td>NA       </td><td>Schweiz  </td><td>Schweiz</td><td>BS</td><td>Riehen      </td></tr>\n",
       "\t<tr><td>Zuzug </td><td>1985</td><td>1</td><td>Schweizer</td><td>W</td><td>1</td><td>Schweiz              </td><td>NA     </td><td>NA</td><td>NA       </td><td>Schweiz  </td><td>Schweiz</td><td>BS</td><td>St. Johann  </td></tr>\n",
       "\t<tr><td>Zuzug </td><td>1985</td><td>1</td><td>Ausländer</td><td>W</td><td>1</td><td>Europa (ohne Schweiz)</td><td>NA     </td><td>NA</td><td>NA       </td><td>Schweiz  </td><td>Schweiz</td><td>BS</td><td>Vorstädte   </td></tr>\n",
       "\t<tr><td>Zuzug </td><td>1985</td><td>1</td><td>Ausländer</td><td>M</td><td>1</td><td>Europa (ohne Schweiz)</td><td>NA     </td><td>NA</td><td>NA       </td><td>Schweiz  </td><td>Schweiz</td><td>BS</td><td>Gundeldingen</td></tr>\n",
       "\t<tr><td>Zuzug </td><td>1985</td><td>1</td><td>Ausländer</td><td>M</td><td>1</td><td>Europa (ohne Schweiz)</td><td>NA     </td><td>NA</td><td>NA       </td><td>Schweiz  </td><td>Schweiz</td><td>BS</td><td>St. Alban   </td></tr>\n",
       "</tbody>\n",
       "</table>\n"
      ],
      "text/latex": [
       "A tibble: 6 × 14\n",
       "\\begin{tabular}{llllllllllllll}\n",
       " Wanderungstyp & Jahr & Monat & Staatsangehoerigkeit & Geschlecht & Alter & VonKontinent & VonLand & VonKanton & VonWohnviertel & NachKontinent & NachLand & NachKanton & NachWohnviertel\\\\\n",
       " <fct> & <dbl> & <dbl> & <fct> & <fct> & <dbl> & <fct> & <fct> & <fct> & <fct> & <fct> & <fct> & <fct> & <fct>\\\\\n",
       "\\hline\n",
       "\t Wegzug & 1985 & 1 & Ausländer & M & 0 & Schweiz               & Schweiz & BS & St. Alban & unbekannt & NA      & NA & NA          \\\\\n",
       "\t Zuzug  & 1985 & 1 & Schweizer & M & 1 & Schweiz               & NA      & NA & NA        & Schweiz   & Schweiz & BS & Riehen      \\\\\n",
       "\t Zuzug  & 1985 & 1 & Schweizer & W & 1 & Schweiz               & NA      & NA & NA        & Schweiz   & Schweiz & BS & St. Johann  \\\\\n",
       "\t Zuzug  & 1985 & 1 & Ausländer & W & 1 & Europa (ohne Schweiz) & NA      & NA & NA        & Schweiz   & Schweiz & BS & Vorstädte   \\\\\n",
       "\t Zuzug  & 1985 & 1 & Ausländer & M & 1 & Europa (ohne Schweiz) & NA      & NA & NA        & Schweiz   & Schweiz & BS & Gundeldingen\\\\\n",
       "\t Zuzug  & 1985 & 1 & Ausländer & M & 1 & Europa (ohne Schweiz) & NA      & NA & NA        & Schweiz   & Schweiz & BS & St. Alban   \\\\\n",
       "\\end{tabular}\n"
      ],
      "text/markdown": [
       "\n",
       "A tibble: 6 × 14\n",
       "\n",
       "| Wanderungstyp &lt;fct&gt; | Jahr &lt;dbl&gt; | Monat &lt;dbl&gt; | Staatsangehoerigkeit &lt;fct&gt; | Geschlecht &lt;fct&gt; | Alter &lt;dbl&gt; | VonKontinent &lt;fct&gt; | VonLand &lt;fct&gt; | VonKanton &lt;fct&gt; | VonWohnviertel &lt;fct&gt; | NachKontinent &lt;fct&gt; | NachLand &lt;fct&gt; | NachKanton &lt;fct&gt; | NachWohnviertel &lt;fct&gt; |\n",
       "|---|---|---|---|---|---|---|---|---|---|---|---|---|---|\n",
       "| Wegzug | 1985 | 1 | Ausländer | M | 0 | Schweiz               | Schweiz | BS | St. Alban | unbekannt | NA      | NA | NA           |\n",
       "| Zuzug  | 1985 | 1 | Schweizer | M | 1 | Schweiz               | NA      | NA | NA        | Schweiz   | Schweiz | BS | Riehen       |\n",
       "| Zuzug  | 1985 | 1 | Schweizer | W | 1 | Schweiz               | NA      | NA | NA        | Schweiz   | Schweiz | BS | St. Johann   |\n",
       "| Zuzug  | 1985 | 1 | Ausländer | W | 1 | Europa (ohne Schweiz) | NA      | NA | NA        | Schweiz   | Schweiz | BS | Vorstädte    |\n",
       "| Zuzug  | 1985 | 1 | Ausländer | M | 1 | Europa (ohne Schweiz) | NA      | NA | NA        | Schweiz   | Schweiz | BS | Gundeldingen |\n",
       "| Zuzug  | 1985 | 1 | Ausländer | M | 1 | Europa (ohne Schweiz) | NA      | NA | NA        | Schweiz   | Schweiz | BS | St. Alban    |\n",
       "\n"
      ],
      "text/plain": [
       "  Wanderungstyp Jahr Monat Staatsangehoerigkeit Geschlecht Alter\n",
       "1 Wegzug        1985 1     Ausländer            M          0    \n",
       "2 Zuzug         1985 1     Schweizer            M          1    \n",
       "3 Zuzug         1985 1     Schweizer            W          1    \n",
       "4 Zuzug         1985 1     Ausländer            W          1    \n",
       "5 Zuzug         1985 1     Ausländer            M          1    \n",
       "6 Zuzug         1985 1     Ausländer            M          1    \n",
       "  VonKontinent          VonLand VonKanton VonWohnviertel NachKontinent NachLand\n",
       "1 Schweiz               Schweiz BS        St. Alban      unbekannt     NA      \n",
       "2 Schweiz               NA      NA        NA             Schweiz       Schweiz \n",
       "3 Schweiz               NA      NA        NA             Schweiz       Schweiz \n",
       "4 Europa (ohne Schweiz) NA      NA        NA             Schweiz       Schweiz \n",
       "5 Europa (ohne Schweiz) NA      NA        NA             Schweiz       Schweiz \n",
       "6 Europa (ohne Schweiz) NA      NA        NA             Schweiz       Schweiz \n",
       "  NachKanton NachWohnviertel\n",
       "1 NA         NA             \n",
       "2 BS         Riehen         \n",
       "3 BS         St. Johann     \n",
       "4 BS         Vorstädte      \n",
       "5 BS         Gundeldingen   \n",
       "6 BS         St. Alban      "
      ]
     },
     "metadata": {},
     "output_type": "display_data"
    },
    {
     "data": {
      "text/html": [
       "<table class=\"dataframe\">\n",
       "<caption>A tibble: 6 × 14</caption>\n",
       "<thead>\n",
       "\t<tr><th scope=col>Wanderungstyp</th><th scope=col>Jahr</th><th scope=col>Monat</th><th scope=col>Staatsangehoerigkeit</th><th scope=col>Geschlecht</th><th scope=col>Alter</th><th scope=col>VonKontinent</th><th scope=col>VonLand</th><th scope=col>VonKanton</th><th scope=col>VonWohnviertel</th><th scope=col>NachKontinent</th><th scope=col>NachLand</th><th scope=col>NachKanton</th><th scope=col>NachWohnviertel</th></tr>\n",
       "\t<tr><th scope=col>&lt;fct&gt;</th><th scope=col>&lt;dbl&gt;</th><th scope=col>&lt;dbl&gt;</th><th scope=col>&lt;fct&gt;</th><th scope=col>&lt;fct&gt;</th><th scope=col>&lt;dbl&gt;</th><th scope=col>&lt;fct&gt;</th><th scope=col>&lt;fct&gt;</th><th scope=col>&lt;fct&gt;</th><th scope=col>&lt;fct&gt;</th><th scope=col>&lt;fct&gt;</th><th scope=col>&lt;fct&gt;</th><th scope=col>&lt;fct&gt;</th><th scope=col>&lt;fct&gt;</th></tr>\n",
       "</thead>\n",
       "<tbody>\n",
       "\t<tr><td>Wegzug</td><td>2023</td><td>9</td><td>Ausländer</td><td>M</td><td>81</td><td>Schweiz  </td><td>Schweiz  </td><td>BS       </td><td>Matthäus    </td><td>Schweiz  </td><td>Schweiz  </td><td>BL       </td><td>NA         </td></tr>\n",
       "\t<tr><td>Zuzug </td><td>2023</td><td>9</td><td>Schweizer</td><td>M</td><td>82</td><td>Schweiz  </td><td>Schweiz  </td><td>BL       </td><td>NA          </td><td>Schweiz  </td><td>Schweiz  </td><td>BS       </td><td>Riehen     </td></tr>\n",
       "\t<tr><td>Wegzug</td><td>2023</td><td>9</td><td>Ausländer</td><td>W</td><td>86</td><td>Schweiz  </td><td>Schweiz  </td><td>BS       </td><td>Vorstädte   </td><td>unbekannt</td><td>unbekannt</td><td>unbekannt</td><td>NA         </td></tr>\n",
       "\t<tr><td>Zuzug </td><td>2023</td><td>9</td><td>Schweizer</td><td>W</td><td>86</td><td>Unbekannt</td><td>Unbekannt</td><td>Unbekannt</td><td>NA          </td><td>Schweiz  </td><td>Schweiz  </td><td>BS       </td><td>Hirzbrunnen</td></tr>\n",
       "\t<tr><td>Zuzug </td><td>2023</td><td>9</td><td>Schweizer</td><td>W</td><td>87</td><td>Schweiz  </td><td>Schweiz  </td><td>BL       </td><td>NA          </td><td>Schweiz  </td><td>Schweiz  </td><td>BS       </td><td>St. Johann </td></tr>\n",
       "\t<tr><td>Wegzug</td><td>2023</td><td>9</td><td>Schweizer</td><td>W</td><td>97</td><td>Schweiz  </td><td>Schweiz  </td><td>BS       </td><td>Gundeldingen</td><td>Schweiz  </td><td>Schweiz  </td><td>VS       </td><td>NA         </td></tr>\n",
       "</tbody>\n",
       "</table>\n"
      ],
      "text/latex": [
       "A tibble: 6 × 14\n",
       "\\begin{tabular}{llllllllllllll}\n",
       " Wanderungstyp & Jahr & Monat & Staatsangehoerigkeit & Geschlecht & Alter & VonKontinent & VonLand & VonKanton & VonWohnviertel & NachKontinent & NachLand & NachKanton & NachWohnviertel\\\\\n",
       " <fct> & <dbl> & <dbl> & <fct> & <fct> & <dbl> & <fct> & <fct> & <fct> & <fct> & <fct> & <fct> & <fct> & <fct>\\\\\n",
       "\\hline\n",
       "\t Wegzug & 2023 & 9 & Ausländer & M & 81 & Schweiz   & Schweiz   & BS        & Matthäus     & Schweiz   & Schweiz   & BL        & NA         \\\\\n",
       "\t Zuzug  & 2023 & 9 & Schweizer & M & 82 & Schweiz   & Schweiz   & BL        & NA           & Schweiz   & Schweiz   & BS        & Riehen     \\\\\n",
       "\t Wegzug & 2023 & 9 & Ausländer & W & 86 & Schweiz   & Schweiz   & BS        & Vorstädte    & unbekannt & unbekannt & unbekannt & NA         \\\\\n",
       "\t Zuzug  & 2023 & 9 & Schweizer & W & 86 & Unbekannt & Unbekannt & Unbekannt & NA           & Schweiz   & Schweiz   & BS        & Hirzbrunnen\\\\\n",
       "\t Zuzug  & 2023 & 9 & Schweizer & W & 87 & Schweiz   & Schweiz   & BL        & NA           & Schweiz   & Schweiz   & BS        & St. Johann \\\\\n",
       "\t Wegzug & 2023 & 9 & Schweizer & W & 97 & Schweiz   & Schweiz   & BS        & Gundeldingen & Schweiz   & Schweiz   & VS        & NA         \\\\\n",
       "\\end{tabular}\n"
      ],
      "text/markdown": [
       "\n",
       "A tibble: 6 × 14\n",
       "\n",
       "| Wanderungstyp &lt;fct&gt; | Jahr &lt;dbl&gt; | Monat &lt;dbl&gt; | Staatsangehoerigkeit &lt;fct&gt; | Geschlecht &lt;fct&gt; | Alter &lt;dbl&gt; | VonKontinent &lt;fct&gt; | VonLand &lt;fct&gt; | VonKanton &lt;fct&gt; | VonWohnviertel &lt;fct&gt; | NachKontinent &lt;fct&gt; | NachLand &lt;fct&gt; | NachKanton &lt;fct&gt; | NachWohnviertel &lt;fct&gt; |\n",
       "|---|---|---|---|---|---|---|---|---|---|---|---|---|---|\n",
       "| Wegzug | 2023 | 9 | Ausländer | M | 81 | Schweiz   | Schweiz   | BS        | Matthäus     | Schweiz   | Schweiz   | BL        | NA          |\n",
       "| Zuzug  | 2023 | 9 | Schweizer | M | 82 | Schweiz   | Schweiz   | BL        | NA           | Schweiz   | Schweiz   | BS        | Riehen      |\n",
       "| Wegzug | 2023 | 9 | Ausländer | W | 86 | Schweiz   | Schweiz   | BS        | Vorstädte    | unbekannt | unbekannt | unbekannt | NA          |\n",
       "| Zuzug  | 2023 | 9 | Schweizer | W | 86 | Unbekannt | Unbekannt | Unbekannt | NA           | Schweiz   | Schweiz   | BS        | Hirzbrunnen |\n",
       "| Zuzug  | 2023 | 9 | Schweizer | W | 87 | Schweiz   | Schweiz   | BL        | NA           | Schweiz   | Schweiz   | BS        | St. Johann  |\n",
       "| Wegzug | 2023 | 9 | Schweizer | W | 97 | Schweiz   | Schweiz   | BS        | Gundeldingen | Schweiz   | Schweiz   | VS        | NA          |\n",
       "\n"
      ],
      "text/plain": [
       "  Wanderungstyp Jahr Monat Staatsangehoerigkeit Geschlecht Alter VonKontinent\n",
       "1 Wegzug        2023 9     Ausländer            M          81    Schweiz     \n",
       "2 Zuzug         2023 9     Schweizer            M          82    Schweiz     \n",
       "3 Wegzug        2023 9     Ausländer            W          86    Schweiz     \n",
       "4 Zuzug         2023 9     Schweizer            W          86    Unbekannt   \n",
       "5 Zuzug         2023 9     Schweizer            W          87    Schweiz     \n",
       "6 Wegzug        2023 9     Schweizer            W          97    Schweiz     \n",
       "  VonLand   VonKanton VonWohnviertel NachKontinent NachLand  NachKanton\n",
       "1 Schweiz   BS        Matthäus       Schweiz       Schweiz   BL        \n",
       "2 Schweiz   BL        NA             Schweiz       Schweiz   BS        \n",
       "3 Schweiz   BS        Vorstädte      unbekannt     unbekannt unbekannt \n",
       "4 Unbekannt Unbekannt NA             Schweiz       Schweiz   BS        \n",
       "5 Schweiz   BL        NA             Schweiz       Schweiz   BS        \n",
       "6 Schweiz   BS        Gundeldingen   Schweiz       Schweiz   VS        \n",
       "  NachWohnviertel\n",
       "1 NA             \n",
       "2 Riehen         \n",
       "3 NA             \n",
       "4 Hirzbrunnen    \n",
       "5 St. Johann     \n",
       "6 NA             "
      ]
     },
     "metadata": {},
     "output_type": "display_data"
    },
    {
     "data": {
      "text/plain": [
       " Wanderungstyp        Jahr          Monat        Staatsangehoerigkeit\n",
       " Wegzug:465174   Min.   :1985   Min.   : 1.000   Ausländer:510368    \n",
       " Zuzug :484976   1st Qu.:1994   1st Qu.: 4.000   Schweizer:439782    \n",
       "                 Median :2005   Median : 7.000                       \n",
       "                 Mean   :2005   Mean   : 6.649                       \n",
       "                 3rd Qu.:2015   3rd Qu.: 9.000                       \n",
       "                 Max.   :2023   Max.   :12.000                       \n",
       "                                                                     \n",
       " Geschlecht     Alter                           VonKontinent   \n",
       " M:506606   Min.   :  0.00   Schweiz                  :694917  \n",
       " W:443544   1st Qu.: 23.00   Europa (ohne Schweiz)    :190562  \n",
       "            Median : 29.00   Asien                    : 17914  \n",
       "            Mean   : 30.88   Unbekannt                : 17271  \n",
       "            3rd Qu.: 38.00   Nordamerika              : 16737  \n",
       "            Max.   :138.00   Lateinamerika und Karibik:  6821  \n",
       "                             (Other)                  :  5928  \n",
       "                           VonLand           VonKanton     \n",
       " Schweiz                       :571858   BS       :465175  \n",
       " Deutschland                   : 38072   Unbekannt:140537  \n",
       " Vereinigte Staaten von Amerika:  8396   BL       : 43067  \n",
       " Grossbritannien               :  7709   AG       : 12196  \n",
       " Frankreich                    :  7639   ZH       : 12073  \n",
       " (Other)                       : 78720   (Other)  : 39346  \n",
       " NA's                          :237756   NA's     :237756  \n",
       "      VonWohnviertel                     NachKontinent   \n",
       " Gundeldingen: 57745   Schweiz                  :613091  \n",
       " St. Johann  : 49879   unbekannt                :258812  \n",
       " Matthäus    : 47120   Europa (ohne Schweiz)    : 55338  \n",
       " Iselin      : 38146   Asien                    : 10464  \n",
       " Am Ring     : 34460   Nordamerika              :  6989  \n",
       " (Other)     :237824   Lateinamerika und Karibik:  2728  \n",
       " NA's        :484976   (Other)                  :  2728  \n",
       "                           NachLand          NachKanton    \n",
       " Schweiz                       :612883   BS       :484976  \n",
       " unbekannt                     : 21678   Ausland  : 77821  \n",
       " Deutschland                   : 20966   BL       : 64608  \n",
       " Frankreich                    :  7260   unbekannt: 21678  \n",
       " Vereinigte Staaten von Amerika:  6066   ZH       : 14343  \n",
       " (Other)                       : 43529   (Other)  : 48956  \n",
       " NA's                          :237768   NA's     :237768  \n",
       "     NachWohnviertel  \n",
       " Gundeldingen: 61381  \n",
       " Matthäus    : 51992  \n",
       " St. Johann  : 51369  \n",
       " Am Ring     : 40234  \n",
       " Iselin      : 35244  \n",
       " (Other)     :244754  \n",
       " NA's        :465176  "
      ]
     },
     "metadata": {},
     "output_type": "display_data"
    }
   ],
   "source": [
    "# Peek into the project data\n",
    "head(data)\n",
    "tail(data)\n",
    "summary(data)"
   ]
  },
  {
   "cell_type": "code",
   "execution_count": 54,
   "metadata": {
    "vscode": {
     "languageId": "r"
    }
   },
   "outputs": [],
   "source": [
    "# Save project data as CSV\n",
    "write_csv(data, \"tidy/migration.csv\")"
   ]
  },
  {
   "cell_type": "code",
   "execution_count": 58,
   "metadata": {
    "vscode": {
     "languageId": "r"
    }
   },
   "outputs": [],
   "source": [
    "# In order to host the data on GitHub, we need to divide the migration data into smaller chunks.\n",
    "# GitHub has a file size limit of 50MB.\n",
    "# However, we are going to create much more chunks - one per month!!\n",
    "# On the website, users will be able to select a starting year and month.\n",
    "# The site will load only the needed data.\n",
    "# Once the animation is done, the subsequent data will be loaded."
   ]
  },
  {
   "cell_type": "code",
   "execution_count": null,
   "metadata": {
    "vscode": {
     "languageId": "r"
    }
   },
   "outputs": [],
   "source": [
    "# Read final data\n",
    "final_data <- read_delim(\"tidy/migration.csv\", delim = \",\")"
   ]
  },
  {
   "cell_type": "code",
   "execution_count": 61,
   "metadata": {
    "vscode": {
     "languageId": "r"
    }
   },
   "outputs": [],
   "source": [
    "chunks <- final_data %>%\n",
    "  mutate(year_month = paste(Jahr, Monat, sep = \"-\")) %>%\n",
    "  group_by(year_month) %>%\n",
    "  group_split()"
   ]
  },
  {
   "cell_type": "code",
   "execution_count": 68,
   "metadata": {
    "vscode": {
     "languageId": "r"
    }
   },
   "outputs": [
    {
     "data": {
      "text/html": [
       "<ol>\n",
       "\t<li><table class=\"dataframe\">\n",
       "<caption>A tibble: 2887 × 15</caption>\n",
       "<thead>\n",
       "\t<tr><th scope=col>Wanderungstyp</th><th scope=col>Jahr</th><th scope=col>Monat</th><th scope=col>Staatsangehoerigkeit</th><th scope=col>Geschlecht</th><th scope=col>Alter</th><th scope=col>VonKontinent</th><th scope=col>VonLand</th><th scope=col>VonKanton</th><th scope=col>VonWohnviertel</th><th scope=col>NachKontinent</th><th scope=col>NachLand</th><th scope=col>NachKanton</th><th scope=col>NachWohnviertel</th><th scope=col>year_month</th></tr>\n",
       "\t<tr><th scope=col>&lt;chr&gt;</th><th scope=col>&lt;dbl&gt;</th><th scope=col>&lt;dbl&gt;</th><th scope=col>&lt;chr&gt;</th><th scope=col>&lt;chr&gt;</th><th scope=col>&lt;dbl&gt;</th><th scope=col>&lt;chr&gt;</th><th scope=col>&lt;chr&gt;</th><th scope=col>&lt;chr&gt;</th><th scope=col>&lt;chr&gt;</th><th scope=col>&lt;chr&gt;</th><th scope=col>&lt;chr&gt;</th><th scope=col>&lt;chr&gt;</th><th scope=col>&lt;chr&gt;</th><th scope=col>&lt;chr&gt;</th></tr>\n",
       "</thead>\n",
       "<tbody>\n",
       "\t<tr><td>Zuzug </td><td>2023</td><td>9</td><td>Ausländer</td><td>M</td><td>0</td><td>Europa (ohne Schweiz)</td><td>Dänemark                      </td><td>Unbekannt</td><td>NA          </td><td>Schweiz                  </td><td>Schweiz    </td><td>BS       </td><td>Iselin             </td><td>2023-9</td></tr>\n",
       "\t<tr><td>Zuzug </td><td>2023</td><td>9</td><td>Schweizer</td><td>M</td><td>0</td><td>Schweiz              </td><td>Schweiz                       </td><td>BL       </td><td>NA          </td><td>Schweiz                  </td><td>Schweiz    </td><td>BS       </td><td>Riehen             </td><td>2023-9</td></tr>\n",
       "\t<tr><td>Wegzug</td><td>2023</td><td>9</td><td>Schweizer</td><td>M</td><td>0</td><td>Schweiz              </td><td>Schweiz                       </td><td>BS       </td><td>Clara       </td><td>Lateinamerika und Karibik</td><td>Jamaika    </td><td>Ausland  </td><td>NA                 </td><td>2023-9</td></tr>\n",
       "\t<tr><td>Wegzug</td><td>2023</td><td>9</td><td>Schweizer</td><td>W</td><td>0</td><td>Schweiz              </td><td>Schweiz                       </td><td>BS       </td><td>Bettingen   </td><td>Schweiz                  </td><td>Schweiz    </td><td>BL       </td><td>NA                 </td><td>2023-9</td></tr>\n",
       "\t<tr><td>Wegzug</td><td>2023</td><td>9</td><td>Schweizer</td><td>M</td><td>0</td><td>Schweiz              </td><td>Schweiz                       </td><td>BS       </td><td>Wettstein   </td><td>Schweiz                  </td><td>Schweiz    </td><td>BL       </td><td>NA                 </td><td>2023-9</td></tr>\n",
       "\t<tr><td>Wegzug</td><td>2023</td><td>9</td><td>Schweizer</td><td>W</td><td>0</td><td>Schweiz              </td><td>Schweiz                       </td><td>BS       </td><td>Gundeldingen</td><td>Schweiz                  </td><td>Schweiz    </td><td>BL       </td><td>NA                 </td><td>2023-9</td></tr>\n",
       "\t<tr><td>Zuzug </td><td>2023</td><td>9</td><td>Schweizer</td><td>W</td><td>0</td><td>Schweiz              </td><td>Schweiz                       </td><td>LU       </td><td>NA          </td><td>Schweiz                  </td><td>Schweiz    </td><td>BS       </td><td>Iselin             </td><td>2023-9</td></tr>\n",
       "\t<tr><td>Zuzug </td><td>2023</td><td>9</td><td>Ausländer</td><td>W</td><td>0</td><td>Schweiz              </td><td>Schweiz                       </td><td>VD       </td><td>NA          </td><td>Schweiz                  </td><td>Schweiz    </td><td>BS       </td><td>Matthäus           </td><td>2023-9</td></tr>\n",
       "\t<tr><td>Wegzug</td><td>2023</td><td>9</td><td>Schweizer</td><td>W</td><td>0</td><td>Schweiz              </td><td>Schweiz                       </td><td>BS       </td><td>Klybeck     </td><td>Schweiz                  </td><td>Schweiz    </td><td>BL       </td><td>NA                 </td><td>2023-9</td></tr>\n",
       "\t<tr><td>Zuzug </td><td>2023</td><td>9</td><td>Schweizer</td><td>M</td><td>0</td><td>Schweiz              </td><td>Schweiz                       </td><td>ZH       </td><td>NA          </td><td>Schweiz                  </td><td>Schweiz    </td><td>BS       </td><td>Bruderholz         </td><td>2023-9</td></tr>\n",
       "\t<tr><td>Zuzug </td><td>2023</td><td>9</td><td>Schweizer</td><td>W</td><td>0</td><td>Schweiz              </td><td>Schweiz                       </td><td>BE       </td><td>NA          </td><td>Schweiz                  </td><td>Schweiz    </td><td>BS       </td><td>Riehen             </td><td>2023-9</td></tr>\n",
       "\t<tr><td>Wegzug</td><td>2023</td><td>9</td><td>Ausländer</td><td>W</td><td>0</td><td>Schweiz              </td><td>Schweiz                       </td><td>BS       </td><td>Vorstädte   </td><td>unbekannt                </td><td>unbekannt  </td><td>unbekannt</td><td>NA                 </td><td>2023-9</td></tr>\n",
       "\t<tr><td>Wegzug</td><td>2023</td><td>9</td><td>Schweizer</td><td>M</td><td>0</td><td>Schweiz              </td><td>Schweiz                       </td><td>BS       </td><td>St. Johann  </td><td>Europa (ohne Schweiz)    </td><td>Deutschland</td><td>Ausland  </td><td>NA                 </td><td>2023-9</td></tr>\n",
       "\t<tr><td>Wegzug</td><td>2023</td><td>9</td><td>Schweizer</td><td>W</td><td>0</td><td>Schweiz              </td><td>Schweiz                       </td><td>BS       </td><td>Am Ring     </td><td>Europa (ohne Schweiz)    </td><td>Deutschland</td><td>Ausland  </td><td>NA                 </td><td>2023-9</td></tr>\n",
       "\t<tr><td>Wegzug</td><td>2023</td><td>9</td><td>Ausländer</td><td>M</td><td>0</td><td>Schweiz              </td><td>Schweiz                       </td><td>BS       </td><td>Gotthelf    </td><td>Schweiz                  </td><td>Schweiz    </td><td>BL       </td><td>NA                 </td><td>2023-9</td></tr>\n",
       "\t<tr><td>Wegzug</td><td>2023</td><td>9</td><td>Schweizer</td><td>W</td><td>0</td><td>Schweiz              </td><td>Schweiz                       </td><td>BS       </td><td>Gundeldingen</td><td>Schweiz                  </td><td>Schweiz    </td><td>BL       </td><td>NA                 </td><td>2023-9</td></tr>\n",
       "\t<tr><td>Zuzug </td><td>2023</td><td>9</td><td>Ausländer</td><td>M</td><td>1</td><td>Europa (ohne Schweiz)</td><td>Luxemburg                     </td><td>Unbekannt</td><td>NA          </td><td>Schweiz                  </td><td>Schweiz    </td><td>BS       </td><td>Am Ring            </td><td>2023-9</td></tr>\n",
       "\t<tr><td>Zuzug </td><td>2023</td><td>9</td><td>Schweizer</td><td>W</td><td>1</td><td>Schweiz              </td><td>Schweiz                       </td><td>ZH       </td><td>NA          </td><td>Schweiz                  </td><td>Schweiz    </td><td>BS       </td><td>Bruderholz         </td><td>2023-9</td></tr>\n",
       "\t<tr><td>Zuzug </td><td>2023</td><td>9</td><td>Ausländer</td><td>M</td><td>1</td><td>Nordamerika          </td><td>Vereinigte Staaten von Amerika</td><td>Unbekannt</td><td>NA          </td><td>Schweiz                  </td><td>Schweiz    </td><td>BS       </td><td>Altstadt Grossbasel</td><td>2023-9</td></tr>\n",
       "\t<tr><td>Zuzug </td><td>2023</td><td>9</td><td>Ausländer</td><td>W</td><td>1</td><td>Schweiz              </td><td>Schweiz                       </td><td>ZH       </td><td>NA          </td><td>Schweiz                  </td><td>Schweiz    </td><td>BS       </td><td>Am Ring            </td><td>2023-9</td></tr>\n",
       "\t<tr><td>Zuzug </td><td>2023</td><td>9</td><td>Schweizer</td><td>W</td><td>1</td><td>Schweiz              </td><td>Schweiz                       </td><td>BL       </td><td>NA          </td><td>Schweiz                  </td><td>Schweiz    </td><td>BS       </td><td>Iselin             </td><td>2023-9</td></tr>\n",
       "\t<tr><td>Zuzug </td><td>2023</td><td>9</td><td>Ausländer</td><td>M</td><td>1</td><td>Europa (ohne Schweiz)</td><td>Deutschland                   </td><td>Unbekannt</td><td>NA          </td><td>Schweiz                  </td><td>Schweiz    </td><td>BS       </td><td>Wettstein          </td><td>2023-9</td></tr>\n",
       "\t<tr><td>Wegzug</td><td>2023</td><td>9</td><td>Ausländer</td><td>W</td><td>1</td><td>Schweiz              </td><td>Schweiz                       </td><td>BS       </td><td>Iselin      </td><td>Europa (ohne Schweiz)    </td><td>Frankreich </td><td>Ausland  </td><td>NA                 </td><td>2023-9</td></tr>\n",
       "\t<tr><td>Wegzug</td><td>2023</td><td>9</td><td>Schweizer</td><td>M</td><td>1</td><td>Schweiz              </td><td>Schweiz                       </td><td>BS       </td><td>St. Alban   </td><td>Schweiz                  </td><td>Schweiz    </td><td>AG       </td><td>NA                 </td><td>2023-9</td></tr>\n",
       "\t<tr><td>Wegzug</td><td>2023</td><td>9</td><td>Ausländer</td><td>M</td><td>1</td><td>Schweiz              </td><td>Schweiz                       </td><td>BS       </td><td>St. Alban   </td><td>Schweiz                  </td><td>Schweiz    </td><td>BL       </td><td>NA                 </td><td>2023-9</td></tr>\n",
       "\t<tr><td>Wegzug</td><td>2023</td><td>9</td><td>Ausländer</td><td>M</td><td>1</td><td>Schweiz              </td><td>Schweiz                       </td><td>BS       </td><td>Rosental    </td><td>Asien                    </td><td>Japan      </td><td>Ausland  </td><td>NA                 </td><td>2023-9</td></tr>\n",
       "\t<tr><td>Wegzug</td><td>2023</td><td>9</td><td>Ausländer</td><td>M</td><td>1</td><td>Schweiz              </td><td>Schweiz                       </td><td>BS       </td><td>Iselin      </td><td>Europa (ohne Schweiz)    </td><td>Italien    </td><td>Ausland  </td><td>NA                 </td><td>2023-9</td></tr>\n",
       "\t<tr><td>Wegzug</td><td>2023</td><td>9</td><td>Ausländer</td><td>M</td><td>1</td><td>Schweiz              </td><td>Schweiz                       </td><td>BS       </td><td>St. Johann  </td><td>Europa (ohne Schweiz)    </td><td>Litauen    </td><td>Ausland  </td><td>NA                 </td><td>2023-9</td></tr>\n",
       "\t<tr><td>Zuzug </td><td>2023</td><td>9</td><td>Schweizer</td><td>W</td><td>1</td><td>Schweiz              </td><td>Schweiz                       </td><td>ZH       </td><td>NA          </td><td>Schweiz                  </td><td>Schweiz    </td><td>BS       </td><td>Iselin             </td><td>2023-9</td></tr>\n",
       "\t<tr><td>Zuzug </td><td>2023</td><td>9</td><td>Ausländer</td><td>W</td><td>1</td><td>Europa (ohne Schweiz)</td><td>Ukraine                       </td><td>Unbekannt</td><td>NA          </td><td>Schweiz                  </td><td>Schweiz    </td><td>BS       </td><td>St. Alban          </td><td>2023-9</td></tr>\n",
       "\t<tr><td>⋮</td><td>⋮</td><td>⋮</td><td>⋮</td><td>⋮</td><td>⋮</td><td>⋮</td><td>⋮</td><td>⋮</td><td>⋮</td><td>⋮</td><td>⋮</td><td>⋮</td><td>⋮</td><td>⋮</td></tr>\n",
       "\t<tr><td>Wegzug</td><td>2023</td><td>9</td><td>Schweizer</td><td>W</td><td>72</td><td>Schweiz                  </td><td>Schweiz  </td><td>BS       </td><td>Iselin             </td><td>Schweiz              </td><td>Schweiz    </td><td>BL       </td><td>NA                 </td><td>2023-9</td></tr>\n",
       "\t<tr><td>Wegzug</td><td>2023</td><td>9</td><td>Schweizer</td><td>M</td><td>72</td><td>Schweiz                  </td><td>Schweiz  </td><td>BS       </td><td>Iselin             </td><td>Europa (ohne Schweiz)</td><td>Serbien    </td><td>Ausland  </td><td>NA                 </td><td>2023-9</td></tr>\n",
       "\t<tr><td>Zuzug </td><td>2023</td><td>9</td><td>Schweizer</td><td>M</td><td>72</td><td>Schweiz                  </td><td>Schweiz  </td><td>SO       </td><td>NA                 </td><td>Schweiz              </td><td>Schweiz    </td><td>BS       </td><td>Altstadt Grossbasel</td><td>2023-9</td></tr>\n",
       "\t<tr><td>Zuzug </td><td>2023</td><td>9</td><td>Schweizer</td><td>M</td><td>72</td><td>Schweiz                  </td><td>Schweiz  </td><td>BL       </td><td>NA                 </td><td>Schweiz              </td><td>Schweiz    </td><td>BS       </td><td>Iselin             </td><td>2023-9</td></tr>\n",
       "\t<tr><td>Zuzug </td><td>2023</td><td>9</td><td>Ausländer</td><td>W</td><td>73</td><td>Lateinamerika und Karibik</td><td>Peru     </td><td>Unbekannt</td><td>NA                 </td><td>Schweiz              </td><td>Schweiz    </td><td>BS       </td><td>Gundeldingen       </td><td>2023-9</td></tr>\n",
       "\t<tr><td>Zuzug </td><td>2023</td><td>9</td><td>Ausländer</td><td>M</td><td>74</td><td>Lateinamerika und Karibik</td><td>Peru     </td><td>Unbekannt</td><td>NA                 </td><td>Schweiz              </td><td>Schweiz    </td><td>BS       </td><td>Gundeldingen       </td><td>2023-9</td></tr>\n",
       "\t<tr><td>Zuzug </td><td>2023</td><td>9</td><td>Ausländer</td><td>W</td><td>74</td><td>Europa (ohne Schweiz)    </td><td>Ukraine  </td><td>Unbekannt</td><td>NA                 </td><td>Schweiz              </td><td>Schweiz    </td><td>BS       </td><td>Vorstädte          </td><td>2023-9</td></tr>\n",
       "\t<tr><td>Wegzug</td><td>2023</td><td>9</td><td>Schweizer</td><td>W</td><td>74</td><td>Schweiz                  </td><td>Schweiz  </td><td>BS       </td><td>Bruderholz         </td><td>Schweiz              </td><td>Schweiz    </td><td>SO       </td><td>NA                 </td><td>2023-9</td></tr>\n",
       "\t<tr><td>Zuzug </td><td>2023</td><td>9</td><td>Schweizer</td><td>M</td><td>74</td><td>Afrika                   </td><td>Aegypten </td><td>Unbekannt</td><td>NA                 </td><td>Schweiz              </td><td>Schweiz    </td><td>BS       </td><td>Riehen             </td><td>2023-9</td></tr>\n",
       "\t<tr><td>Wegzug</td><td>2023</td><td>9</td><td>Schweizer</td><td>W</td><td>75</td><td>Schweiz                  </td><td>Schweiz  </td><td>BS       </td><td>Clara              </td><td>Schweiz              </td><td>Schweiz    </td><td>SG       </td><td>NA                 </td><td>2023-9</td></tr>\n",
       "\t<tr><td>Wegzug</td><td>2023</td><td>9</td><td>Schweizer</td><td>M</td><td>75</td><td>Schweiz                  </td><td>Schweiz  </td><td>BS       </td><td>Iselin             </td><td>Schweiz              </td><td>Schweiz    </td><td>BL       </td><td>NA                 </td><td>2023-9</td></tr>\n",
       "\t<tr><td>Wegzug</td><td>2023</td><td>9</td><td>Ausländer</td><td>M</td><td>75</td><td>Schweiz                  </td><td>Schweiz  </td><td>BS       </td><td>Vorstädte          </td><td>Europa (ohne Schweiz)</td><td>Niederlande</td><td>Ausland  </td><td>NA                 </td><td>2023-9</td></tr>\n",
       "\t<tr><td>Wegzug</td><td>2023</td><td>9</td><td>Schweizer</td><td>W</td><td>75</td><td>Schweiz                  </td><td>Schweiz  </td><td>BS       </td><td>Gundeldingen       </td><td>Schweiz              </td><td>Schweiz    </td><td>BE       </td><td>NA                 </td><td>2023-9</td></tr>\n",
       "\t<tr><td>Zuzug </td><td>2023</td><td>9</td><td>Ausländer</td><td>W</td><td>77</td><td>Nordamerika              </td><td>Kanada   </td><td>Unbekannt</td><td>NA                 </td><td>Schweiz              </td><td>Schweiz    </td><td>BS       </td><td>Riehen             </td><td>2023-9</td></tr>\n",
       "\t<tr><td>Wegzug</td><td>2023</td><td>9</td><td>Schweizer</td><td>M</td><td>78</td><td>Schweiz                  </td><td>Schweiz  </td><td>BS       </td><td>Gundeldingen       </td><td>Asien                </td><td>Thailand   </td><td>Ausland  </td><td>NA                 </td><td>2023-9</td></tr>\n",
       "\t<tr><td>Wegzug</td><td>2023</td><td>9</td><td>Ausländer</td><td>W</td><td>78</td><td>Schweiz                  </td><td>Schweiz  </td><td>BS       </td><td>Bruderholz         </td><td>Europa (ohne Schweiz)</td><td>Deutschland</td><td>Ausland  </td><td>NA                 </td><td>2023-9</td></tr>\n",
       "\t<tr><td>Zuzug </td><td>2023</td><td>9</td><td>Schweizer</td><td>M</td><td>79</td><td>Schweiz                  </td><td>Schweiz  </td><td>BL       </td><td>NA                 </td><td>Schweiz              </td><td>Schweiz    </td><td>BS       </td><td>Klybeck            </td><td>2023-9</td></tr>\n",
       "\t<tr><td>Zuzug </td><td>2023</td><td>9</td><td>Schweizer</td><td>M</td><td>79</td><td>Unbekannt                </td><td>Unbekannt</td><td>Unbekannt</td><td>NA                 </td><td>Schweiz              </td><td>Schweiz    </td><td>BS       </td><td>Hirzbrunnen        </td><td>2023-9</td></tr>\n",
       "\t<tr><td>Zuzug </td><td>2023</td><td>9</td><td>Schweizer</td><td>M</td><td>79</td><td>Schweiz                  </td><td>Schweiz  </td><td>BE       </td><td>NA                 </td><td>Schweiz              </td><td>Schweiz    </td><td>BS       </td><td>St. Alban          </td><td>2023-9</td></tr>\n",
       "\t<tr><td>Wegzug</td><td>2023</td><td>9</td><td>Schweizer</td><td>M</td><td>79</td><td>Schweiz                  </td><td>Schweiz  </td><td>BS       </td><td>Altstadt Grossbasel</td><td>Asien                </td><td>Philippinen</td><td>Ausland  </td><td>NA                 </td><td>2023-9</td></tr>\n",
       "\t<tr><td>Zuzug </td><td>2023</td><td>9</td><td>Schweizer</td><td>W</td><td>79</td><td>Schweiz                  </td><td>Schweiz  </td><td>BL       </td><td>NA                 </td><td>Schweiz              </td><td>Schweiz    </td><td>BS       </td><td>Wettstein          </td><td>2023-9</td></tr>\n",
       "\t<tr><td>Wegzug</td><td>2023</td><td>9</td><td>Schweizer</td><td>M</td><td>79</td><td>Schweiz                  </td><td>Schweiz  </td><td>BS       </td><td>St. Johann         </td><td>unbekannt            </td><td>unbekannt  </td><td>unbekannt</td><td>NA                 </td><td>2023-9</td></tr>\n",
       "\t<tr><td>Zuzug </td><td>2023</td><td>9</td><td>Schweizer</td><td>W</td><td>80</td><td>Afrika                   </td><td>Nigeria  </td><td>Unbekannt</td><td>NA                 </td><td>Schweiz              </td><td>Schweiz    </td><td>BS       </td><td>St. Johann         </td><td>2023-9</td></tr>\n",
       "\t<tr><td>Wegzug</td><td>2023</td><td>9</td><td>Ausländer</td><td>M</td><td>81</td><td>Schweiz                  </td><td>Schweiz  </td><td>BS       </td><td>Breite             </td><td>Schweiz              </td><td>Schweiz    </td><td>AG       </td><td>NA                 </td><td>2023-9</td></tr>\n",
       "\t<tr><td>Wegzug</td><td>2023</td><td>9</td><td>Ausländer</td><td>M</td><td>81</td><td>Schweiz                  </td><td>Schweiz  </td><td>BS       </td><td>Matthäus           </td><td>Schweiz              </td><td>Schweiz    </td><td>BL       </td><td>NA                 </td><td>2023-9</td></tr>\n",
       "\t<tr><td>Zuzug </td><td>2023</td><td>9</td><td>Schweizer</td><td>M</td><td>82</td><td>Schweiz                  </td><td>Schweiz  </td><td>BL       </td><td>NA                 </td><td>Schweiz              </td><td>Schweiz    </td><td>BS       </td><td>Riehen             </td><td>2023-9</td></tr>\n",
       "\t<tr><td>Wegzug</td><td>2023</td><td>9</td><td>Ausländer</td><td>W</td><td>86</td><td>Schweiz                  </td><td>Schweiz  </td><td>BS       </td><td>Vorstädte          </td><td>unbekannt            </td><td>unbekannt  </td><td>unbekannt</td><td>NA                 </td><td>2023-9</td></tr>\n",
       "\t<tr><td>Zuzug </td><td>2023</td><td>9</td><td>Schweizer</td><td>W</td><td>86</td><td>Unbekannt                </td><td>Unbekannt</td><td>Unbekannt</td><td>NA                 </td><td>Schweiz              </td><td>Schweiz    </td><td>BS       </td><td>Hirzbrunnen        </td><td>2023-9</td></tr>\n",
       "\t<tr><td>Zuzug </td><td>2023</td><td>9</td><td>Schweizer</td><td>W</td><td>87</td><td>Schweiz                  </td><td>Schweiz  </td><td>BL       </td><td>NA                 </td><td>Schweiz              </td><td>Schweiz    </td><td>BS       </td><td>St. Johann         </td><td>2023-9</td></tr>\n",
       "\t<tr><td>Wegzug</td><td>2023</td><td>9</td><td>Schweizer</td><td>W</td><td>97</td><td>Schweiz                  </td><td>Schweiz  </td><td>BS       </td><td>Gundeldingen       </td><td>Schweiz              </td><td>Schweiz    </td><td>VS       </td><td>NA                 </td><td>2023-9</td></tr>\n",
       "</tbody>\n",
       "</table>\n",
       "</li>\n",
       "</ol>\n"
      ],
      "text/latex": [
       "\\begin{enumerate}\n",
       "\\item A tibble: 2887 × 15\n",
       "\\begin{tabular}{lllllllllllllll}\n",
       " Wanderungstyp & Jahr & Monat & Staatsangehoerigkeit & Geschlecht & Alter & VonKontinent & VonLand & VonKanton & VonWohnviertel & NachKontinent & NachLand & NachKanton & NachWohnviertel & year\\_month\\\\\n",
       " <chr> & <dbl> & <dbl> & <chr> & <chr> & <dbl> & <chr> & <chr> & <chr> & <chr> & <chr> & <chr> & <chr> & <chr> & <chr>\\\\\n",
       "\\hline\n",
       "\t Zuzug  & 2023 & 9 & Ausländer & M & 0 & Europa (ohne Schweiz) & Dänemark                       & Unbekannt & NA           & Schweiz                   & Schweiz     & BS        & Iselin              & 2023-9\\\\\n",
       "\t Zuzug  & 2023 & 9 & Schweizer & M & 0 & Schweiz               & Schweiz                        & BL        & NA           & Schweiz                   & Schweiz     & BS        & Riehen              & 2023-9\\\\\n",
       "\t Wegzug & 2023 & 9 & Schweizer & M & 0 & Schweiz               & Schweiz                        & BS        & Clara        & Lateinamerika und Karibik & Jamaika     & Ausland   & NA                  & 2023-9\\\\\n",
       "\t Wegzug & 2023 & 9 & Schweizer & W & 0 & Schweiz               & Schweiz                        & BS        & Bettingen    & Schweiz                   & Schweiz     & BL        & NA                  & 2023-9\\\\\n",
       "\t Wegzug & 2023 & 9 & Schweizer & M & 0 & Schweiz               & Schweiz                        & BS        & Wettstein    & Schweiz                   & Schweiz     & BL        & NA                  & 2023-9\\\\\n",
       "\t Wegzug & 2023 & 9 & Schweizer & W & 0 & Schweiz               & Schweiz                        & BS        & Gundeldingen & Schweiz                   & Schweiz     & BL        & NA                  & 2023-9\\\\\n",
       "\t Zuzug  & 2023 & 9 & Schweizer & W & 0 & Schweiz               & Schweiz                        & LU        & NA           & Schweiz                   & Schweiz     & BS        & Iselin              & 2023-9\\\\\n",
       "\t Zuzug  & 2023 & 9 & Ausländer & W & 0 & Schweiz               & Schweiz                        & VD        & NA           & Schweiz                   & Schweiz     & BS        & Matthäus            & 2023-9\\\\\n",
       "\t Wegzug & 2023 & 9 & Schweizer & W & 0 & Schweiz               & Schweiz                        & BS        & Klybeck      & Schweiz                   & Schweiz     & BL        & NA                  & 2023-9\\\\\n",
       "\t Zuzug  & 2023 & 9 & Schweizer & M & 0 & Schweiz               & Schweiz                        & ZH        & NA           & Schweiz                   & Schweiz     & BS        & Bruderholz          & 2023-9\\\\\n",
       "\t Zuzug  & 2023 & 9 & Schweizer & W & 0 & Schweiz               & Schweiz                        & BE        & NA           & Schweiz                   & Schweiz     & BS        & Riehen              & 2023-9\\\\\n",
       "\t Wegzug & 2023 & 9 & Ausländer & W & 0 & Schweiz               & Schweiz                        & BS        & Vorstädte    & unbekannt                 & unbekannt   & unbekannt & NA                  & 2023-9\\\\\n",
       "\t Wegzug & 2023 & 9 & Schweizer & M & 0 & Schweiz               & Schweiz                        & BS        & St. Johann   & Europa (ohne Schweiz)     & Deutschland & Ausland   & NA                  & 2023-9\\\\\n",
       "\t Wegzug & 2023 & 9 & Schweizer & W & 0 & Schweiz               & Schweiz                        & BS        & Am Ring      & Europa (ohne Schweiz)     & Deutschland & Ausland   & NA                  & 2023-9\\\\\n",
       "\t Wegzug & 2023 & 9 & Ausländer & M & 0 & Schweiz               & Schweiz                        & BS        & Gotthelf     & Schweiz                   & Schweiz     & BL        & NA                  & 2023-9\\\\\n",
       "\t Wegzug & 2023 & 9 & Schweizer & W & 0 & Schweiz               & Schweiz                        & BS        & Gundeldingen & Schweiz                   & Schweiz     & BL        & NA                  & 2023-9\\\\\n",
       "\t Zuzug  & 2023 & 9 & Ausländer & M & 1 & Europa (ohne Schweiz) & Luxemburg                      & Unbekannt & NA           & Schweiz                   & Schweiz     & BS        & Am Ring             & 2023-9\\\\\n",
       "\t Zuzug  & 2023 & 9 & Schweizer & W & 1 & Schweiz               & Schweiz                        & ZH        & NA           & Schweiz                   & Schweiz     & BS        & Bruderholz          & 2023-9\\\\\n",
       "\t Zuzug  & 2023 & 9 & Ausländer & M & 1 & Nordamerika           & Vereinigte Staaten von Amerika & Unbekannt & NA           & Schweiz                   & Schweiz     & BS        & Altstadt Grossbasel & 2023-9\\\\\n",
       "\t Zuzug  & 2023 & 9 & Ausländer & W & 1 & Schweiz               & Schweiz                        & ZH        & NA           & Schweiz                   & Schweiz     & BS        & Am Ring             & 2023-9\\\\\n",
       "\t Zuzug  & 2023 & 9 & Schweizer & W & 1 & Schweiz               & Schweiz                        & BL        & NA           & Schweiz                   & Schweiz     & BS        & Iselin              & 2023-9\\\\\n",
       "\t Zuzug  & 2023 & 9 & Ausländer & M & 1 & Europa (ohne Schweiz) & Deutschland                    & Unbekannt & NA           & Schweiz                   & Schweiz     & BS        & Wettstein           & 2023-9\\\\\n",
       "\t Wegzug & 2023 & 9 & Ausländer & W & 1 & Schweiz               & Schweiz                        & BS        & Iselin       & Europa (ohne Schweiz)     & Frankreich  & Ausland   & NA                  & 2023-9\\\\\n",
       "\t Wegzug & 2023 & 9 & Schweizer & M & 1 & Schweiz               & Schweiz                        & BS        & St. Alban    & Schweiz                   & Schweiz     & AG        & NA                  & 2023-9\\\\\n",
       "\t Wegzug & 2023 & 9 & Ausländer & M & 1 & Schweiz               & Schweiz                        & BS        & St. Alban    & Schweiz                   & Schweiz     & BL        & NA                  & 2023-9\\\\\n",
       "\t Wegzug & 2023 & 9 & Ausländer & M & 1 & Schweiz               & Schweiz                        & BS        & Rosental     & Asien                     & Japan       & Ausland   & NA                  & 2023-9\\\\\n",
       "\t Wegzug & 2023 & 9 & Ausländer & M & 1 & Schweiz               & Schweiz                        & BS        & Iselin       & Europa (ohne Schweiz)     & Italien     & Ausland   & NA                  & 2023-9\\\\\n",
       "\t Wegzug & 2023 & 9 & Ausländer & M & 1 & Schweiz               & Schweiz                        & BS        & St. Johann   & Europa (ohne Schweiz)     & Litauen     & Ausland   & NA                  & 2023-9\\\\\n",
       "\t Zuzug  & 2023 & 9 & Schweizer & W & 1 & Schweiz               & Schweiz                        & ZH        & NA           & Schweiz                   & Schweiz     & BS        & Iselin              & 2023-9\\\\\n",
       "\t Zuzug  & 2023 & 9 & Ausländer & W & 1 & Europa (ohne Schweiz) & Ukraine                        & Unbekannt & NA           & Schweiz                   & Schweiz     & BS        & St. Alban           & 2023-9\\\\\n",
       "\t ⋮ & ⋮ & ⋮ & ⋮ & ⋮ & ⋮ & ⋮ & ⋮ & ⋮ & ⋮ & ⋮ & ⋮ & ⋮ & ⋮ & ⋮\\\\\n",
       "\t Wegzug & 2023 & 9 & Schweizer & W & 72 & Schweiz                   & Schweiz   & BS        & Iselin              & Schweiz               & Schweiz     & BL        & NA                  & 2023-9\\\\\n",
       "\t Wegzug & 2023 & 9 & Schweizer & M & 72 & Schweiz                   & Schweiz   & BS        & Iselin              & Europa (ohne Schweiz) & Serbien     & Ausland   & NA                  & 2023-9\\\\\n",
       "\t Zuzug  & 2023 & 9 & Schweizer & M & 72 & Schweiz                   & Schweiz   & SO        & NA                  & Schweiz               & Schweiz     & BS        & Altstadt Grossbasel & 2023-9\\\\\n",
       "\t Zuzug  & 2023 & 9 & Schweizer & M & 72 & Schweiz                   & Schweiz   & BL        & NA                  & Schweiz               & Schweiz     & BS        & Iselin              & 2023-9\\\\\n",
       "\t Zuzug  & 2023 & 9 & Ausländer & W & 73 & Lateinamerika und Karibik & Peru      & Unbekannt & NA                  & Schweiz               & Schweiz     & BS        & Gundeldingen        & 2023-9\\\\\n",
       "\t Zuzug  & 2023 & 9 & Ausländer & M & 74 & Lateinamerika und Karibik & Peru      & Unbekannt & NA                  & Schweiz               & Schweiz     & BS        & Gundeldingen        & 2023-9\\\\\n",
       "\t Zuzug  & 2023 & 9 & Ausländer & W & 74 & Europa (ohne Schweiz)     & Ukraine   & Unbekannt & NA                  & Schweiz               & Schweiz     & BS        & Vorstädte           & 2023-9\\\\\n",
       "\t Wegzug & 2023 & 9 & Schweizer & W & 74 & Schweiz                   & Schweiz   & BS        & Bruderholz          & Schweiz               & Schweiz     & SO        & NA                  & 2023-9\\\\\n",
       "\t Zuzug  & 2023 & 9 & Schweizer & M & 74 & Afrika                    & Aegypten  & Unbekannt & NA                  & Schweiz               & Schweiz     & BS        & Riehen              & 2023-9\\\\\n",
       "\t Wegzug & 2023 & 9 & Schweizer & W & 75 & Schweiz                   & Schweiz   & BS        & Clara               & Schweiz               & Schweiz     & SG        & NA                  & 2023-9\\\\\n",
       "\t Wegzug & 2023 & 9 & Schweizer & M & 75 & Schweiz                   & Schweiz   & BS        & Iselin              & Schweiz               & Schweiz     & BL        & NA                  & 2023-9\\\\\n",
       "\t Wegzug & 2023 & 9 & Ausländer & M & 75 & Schweiz                   & Schweiz   & BS        & Vorstädte           & Europa (ohne Schweiz) & Niederlande & Ausland   & NA                  & 2023-9\\\\\n",
       "\t Wegzug & 2023 & 9 & Schweizer & W & 75 & Schweiz                   & Schweiz   & BS        & Gundeldingen        & Schweiz               & Schweiz     & BE        & NA                  & 2023-9\\\\\n",
       "\t Zuzug  & 2023 & 9 & Ausländer & W & 77 & Nordamerika               & Kanada    & Unbekannt & NA                  & Schweiz               & Schweiz     & BS        & Riehen              & 2023-9\\\\\n",
       "\t Wegzug & 2023 & 9 & Schweizer & M & 78 & Schweiz                   & Schweiz   & BS        & Gundeldingen        & Asien                 & Thailand    & Ausland   & NA                  & 2023-9\\\\\n",
       "\t Wegzug & 2023 & 9 & Ausländer & W & 78 & Schweiz                   & Schweiz   & BS        & Bruderholz          & Europa (ohne Schweiz) & Deutschland & Ausland   & NA                  & 2023-9\\\\\n",
       "\t Zuzug  & 2023 & 9 & Schweizer & M & 79 & Schweiz                   & Schweiz   & BL        & NA                  & Schweiz               & Schweiz     & BS        & Klybeck             & 2023-9\\\\\n",
       "\t Zuzug  & 2023 & 9 & Schweizer & M & 79 & Unbekannt                 & Unbekannt & Unbekannt & NA                  & Schweiz               & Schweiz     & BS        & Hirzbrunnen         & 2023-9\\\\\n",
       "\t Zuzug  & 2023 & 9 & Schweizer & M & 79 & Schweiz                   & Schweiz   & BE        & NA                  & Schweiz               & Schweiz     & BS        & St. Alban           & 2023-9\\\\\n",
       "\t Wegzug & 2023 & 9 & Schweizer & M & 79 & Schweiz                   & Schweiz   & BS        & Altstadt Grossbasel & Asien                 & Philippinen & Ausland   & NA                  & 2023-9\\\\\n",
       "\t Zuzug  & 2023 & 9 & Schweizer & W & 79 & Schweiz                   & Schweiz   & BL        & NA                  & Schweiz               & Schweiz     & BS        & Wettstein           & 2023-9\\\\\n",
       "\t Wegzug & 2023 & 9 & Schweizer & M & 79 & Schweiz                   & Schweiz   & BS        & St. Johann          & unbekannt             & unbekannt   & unbekannt & NA                  & 2023-9\\\\\n",
       "\t Zuzug  & 2023 & 9 & Schweizer & W & 80 & Afrika                    & Nigeria   & Unbekannt & NA                  & Schweiz               & Schweiz     & BS        & St. Johann          & 2023-9\\\\\n",
       "\t Wegzug & 2023 & 9 & Ausländer & M & 81 & Schweiz                   & Schweiz   & BS        & Breite              & Schweiz               & Schweiz     & AG        & NA                  & 2023-9\\\\\n",
       "\t Wegzug & 2023 & 9 & Ausländer & M & 81 & Schweiz                   & Schweiz   & BS        & Matthäus            & Schweiz               & Schweiz     & BL        & NA                  & 2023-9\\\\\n",
       "\t Zuzug  & 2023 & 9 & Schweizer & M & 82 & Schweiz                   & Schweiz   & BL        & NA                  & Schweiz               & Schweiz     & BS        & Riehen              & 2023-9\\\\\n",
       "\t Wegzug & 2023 & 9 & Ausländer & W & 86 & Schweiz                   & Schweiz   & BS        & Vorstädte           & unbekannt             & unbekannt   & unbekannt & NA                  & 2023-9\\\\\n",
       "\t Zuzug  & 2023 & 9 & Schweizer & W & 86 & Unbekannt                 & Unbekannt & Unbekannt & NA                  & Schweiz               & Schweiz     & BS        & Hirzbrunnen         & 2023-9\\\\\n",
       "\t Zuzug  & 2023 & 9 & Schweizer & W & 87 & Schweiz                   & Schweiz   & BL        & NA                  & Schweiz               & Schweiz     & BS        & St. Johann          & 2023-9\\\\\n",
       "\t Wegzug & 2023 & 9 & Schweizer & W & 97 & Schweiz                   & Schweiz   & BS        & Gundeldingen        & Schweiz               & Schweiz     & VS        & NA                  & 2023-9\\\\\n",
       "\\end{tabular}\n",
       "\n",
       "\\end{enumerate}\n"
      ],
      "text/markdown": [
       "1. \n",
       "A tibble: 2887 × 15\n",
       "\n",
       "| Wanderungstyp &lt;chr&gt; | Jahr &lt;dbl&gt; | Monat &lt;dbl&gt; | Staatsangehoerigkeit &lt;chr&gt; | Geschlecht &lt;chr&gt; | Alter &lt;dbl&gt; | VonKontinent &lt;chr&gt; | VonLand &lt;chr&gt; | VonKanton &lt;chr&gt; | VonWohnviertel &lt;chr&gt; | NachKontinent &lt;chr&gt; | NachLand &lt;chr&gt; | NachKanton &lt;chr&gt; | NachWohnviertel &lt;chr&gt; | year_month &lt;chr&gt; |\n",
       "|---|---|---|---|---|---|---|---|---|---|---|---|---|---|---|\n",
       "| Zuzug  | 2023 | 9 | Ausländer | M | 0 | Europa (ohne Schweiz) | Dänemark                       | Unbekannt | NA           | Schweiz                   | Schweiz     | BS        | Iselin              | 2023-9 |\n",
       "| Zuzug  | 2023 | 9 | Schweizer | M | 0 | Schweiz               | Schweiz                        | BL        | NA           | Schweiz                   | Schweiz     | BS        | Riehen              | 2023-9 |\n",
       "| Wegzug | 2023 | 9 | Schweizer | M | 0 | Schweiz               | Schweiz                        | BS        | Clara        | Lateinamerika und Karibik | Jamaika     | Ausland   | NA                  | 2023-9 |\n",
       "| Wegzug | 2023 | 9 | Schweizer | W | 0 | Schweiz               | Schweiz                        | BS        | Bettingen    | Schweiz                   | Schweiz     | BL        | NA                  | 2023-9 |\n",
       "| Wegzug | 2023 | 9 | Schweizer | M | 0 | Schweiz               | Schweiz                        | BS        | Wettstein    | Schweiz                   | Schweiz     | BL        | NA                  | 2023-9 |\n",
       "| Wegzug | 2023 | 9 | Schweizer | W | 0 | Schweiz               | Schweiz                        | BS        | Gundeldingen | Schweiz                   | Schweiz     | BL        | NA                  | 2023-9 |\n",
       "| Zuzug  | 2023 | 9 | Schweizer | W | 0 | Schweiz               | Schweiz                        | LU        | NA           | Schweiz                   | Schweiz     | BS        | Iselin              | 2023-9 |\n",
       "| Zuzug  | 2023 | 9 | Ausländer | W | 0 | Schweiz               | Schweiz                        | VD        | NA           | Schweiz                   | Schweiz     | BS        | Matthäus            | 2023-9 |\n",
       "| Wegzug | 2023 | 9 | Schweizer | W | 0 | Schweiz               | Schweiz                        | BS        | Klybeck      | Schweiz                   | Schweiz     | BL        | NA                  | 2023-9 |\n",
       "| Zuzug  | 2023 | 9 | Schweizer | M | 0 | Schweiz               | Schweiz                        | ZH        | NA           | Schweiz                   | Schweiz     | BS        | Bruderholz          | 2023-9 |\n",
       "| Zuzug  | 2023 | 9 | Schweizer | W | 0 | Schweiz               | Schweiz                        | BE        | NA           | Schweiz                   | Schweiz     | BS        | Riehen              | 2023-9 |\n",
       "| Wegzug | 2023 | 9 | Ausländer | W | 0 | Schweiz               | Schweiz                        | BS        | Vorstädte    | unbekannt                 | unbekannt   | unbekannt | NA                  | 2023-9 |\n",
       "| Wegzug | 2023 | 9 | Schweizer | M | 0 | Schweiz               | Schweiz                        | BS        | St. Johann   | Europa (ohne Schweiz)     | Deutschland | Ausland   | NA                  | 2023-9 |\n",
       "| Wegzug | 2023 | 9 | Schweizer | W | 0 | Schweiz               | Schweiz                        | BS        | Am Ring      | Europa (ohne Schweiz)     | Deutschland | Ausland   | NA                  | 2023-9 |\n",
       "| Wegzug | 2023 | 9 | Ausländer | M | 0 | Schweiz               | Schweiz                        | BS        | Gotthelf     | Schweiz                   | Schweiz     | BL        | NA                  | 2023-9 |\n",
       "| Wegzug | 2023 | 9 | Schweizer | W | 0 | Schweiz               | Schweiz                        | BS        | Gundeldingen | Schweiz                   | Schweiz     | BL        | NA                  | 2023-9 |\n",
       "| Zuzug  | 2023 | 9 | Ausländer | M | 1 | Europa (ohne Schweiz) | Luxemburg                      | Unbekannt | NA           | Schweiz                   | Schweiz     | BS        | Am Ring             | 2023-9 |\n",
       "| Zuzug  | 2023 | 9 | Schweizer | W | 1 | Schweiz               | Schweiz                        | ZH        | NA           | Schweiz                   | Schweiz     | BS        | Bruderholz          | 2023-9 |\n",
       "| Zuzug  | 2023 | 9 | Ausländer | M | 1 | Nordamerika           | Vereinigte Staaten von Amerika | Unbekannt | NA           | Schweiz                   | Schweiz     | BS        | Altstadt Grossbasel | 2023-9 |\n",
       "| Zuzug  | 2023 | 9 | Ausländer | W | 1 | Schweiz               | Schweiz                        | ZH        | NA           | Schweiz                   | Schweiz     | BS        | Am Ring             | 2023-9 |\n",
       "| Zuzug  | 2023 | 9 | Schweizer | W | 1 | Schweiz               | Schweiz                        | BL        | NA           | Schweiz                   | Schweiz     | BS        | Iselin              | 2023-9 |\n",
       "| Zuzug  | 2023 | 9 | Ausländer | M | 1 | Europa (ohne Schweiz) | Deutschland                    | Unbekannt | NA           | Schweiz                   | Schweiz     | BS        | Wettstein           | 2023-9 |\n",
       "| Wegzug | 2023 | 9 | Ausländer | W | 1 | Schweiz               | Schweiz                        | BS        | Iselin       | Europa (ohne Schweiz)     | Frankreich  | Ausland   | NA                  | 2023-9 |\n",
       "| Wegzug | 2023 | 9 | Schweizer | M | 1 | Schweiz               | Schweiz                        | BS        | St. Alban    | Schweiz                   | Schweiz     | AG        | NA                  | 2023-9 |\n",
       "| Wegzug | 2023 | 9 | Ausländer | M | 1 | Schweiz               | Schweiz                        | BS        | St. Alban    | Schweiz                   | Schweiz     | BL        | NA                  | 2023-9 |\n",
       "| Wegzug | 2023 | 9 | Ausländer | M | 1 | Schweiz               | Schweiz                        | BS        | Rosental     | Asien                     | Japan       | Ausland   | NA                  | 2023-9 |\n",
       "| Wegzug | 2023 | 9 | Ausländer | M | 1 | Schweiz               | Schweiz                        | BS        | Iselin       | Europa (ohne Schweiz)     | Italien     | Ausland   | NA                  | 2023-9 |\n",
       "| Wegzug | 2023 | 9 | Ausländer | M | 1 | Schweiz               | Schweiz                        | BS        | St. Johann   | Europa (ohne Schweiz)     | Litauen     | Ausland   | NA                  | 2023-9 |\n",
       "| Zuzug  | 2023 | 9 | Schweizer | W | 1 | Schweiz               | Schweiz                        | ZH        | NA           | Schweiz                   | Schweiz     | BS        | Iselin              | 2023-9 |\n",
       "| Zuzug  | 2023 | 9 | Ausländer | W | 1 | Europa (ohne Schweiz) | Ukraine                        | Unbekannt | NA           | Schweiz                   | Schweiz     | BS        | St. Alban           | 2023-9 |\n",
       "| ⋮ | ⋮ | ⋮ | ⋮ | ⋮ | ⋮ | ⋮ | ⋮ | ⋮ | ⋮ | ⋮ | ⋮ | ⋮ | ⋮ | ⋮ |\n",
       "| Wegzug | 2023 | 9 | Schweizer | W | 72 | Schweiz                   | Schweiz   | BS        | Iselin              | Schweiz               | Schweiz     | BL        | NA                  | 2023-9 |\n",
       "| Wegzug | 2023 | 9 | Schweizer | M | 72 | Schweiz                   | Schweiz   | BS        | Iselin              | Europa (ohne Schweiz) | Serbien     | Ausland   | NA                  | 2023-9 |\n",
       "| Zuzug  | 2023 | 9 | Schweizer | M | 72 | Schweiz                   | Schweiz   | SO        | NA                  | Schweiz               | Schweiz     | BS        | Altstadt Grossbasel | 2023-9 |\n",
       "| Zuzug  | 2023 | 9 | Schweizer | M | 72 | Schweiz                   | Schweiz   | BL        | NA                  | Schweiz               | Schweiz     | BS        | Iselin              | 2023-9 |\n",
       "| Zuzug  | 2023 | 9 | Ausländer | W | 73 | Lateinamerika und Karibik | Peru      | Unbekannt | NA                  | Schweiz               | Schweiz     | BS        | Gundeldingen        | 2023-9 |\n",
       "| Zuzug  | 2023 | 9 | Ausländer | M | 74 | Lateinamerika und Karibik | Peru      | Unbekannt | NA                  | Schweiz               | Schweiz     | BS        | Gundeldingen        | 2023-9 |\n",
       "| Zuzug  | 2023 | 9 | Ausländer | W | 74 | Europa (ohne Schweiz)     | Ukraine   | Unbekannt | NA                  | Schweiz               | Schweiz     | BS        | Vorstädte           | 2023-9 |\n",
       "| Wegzug | 2023 | 9 | Schweizer | W | 74 | Schweiz                   | Schweiz   | BS        | Bruderholz          | Schweiz               | Schweiz     | SO        | NA                  | 2023-9 |\n",
       "| Zuzug  | 2023 | 9 | Schweizer | M | 74 | Afrika                    | Aegypten  | Unbekannt | NA                  | Schweiz               | Schweiz     | BS        | Riehen              | 2023-9 |\n",
       "| Wegzug | 2023 | 9 | Schweizer | W | 75 | Schweiz                   | Schweiz   | BS        | Clara               | Schweiz               | Schweiz     | SG        | NA                  | 2023-9 |\n",
       "| Wegzug | 2023 | 9 | Schweizer | M | 75 | Schweiz                   | Schweiz   | BS        | Iselin              | Schweiz               | Schweiz     | BL        | NA                  | 2023-9 |\n",
       "| Wegzug | 2023 | 9 | Ausländer | M | 75 | Schweiz                   | Schweiz   | BS        | Vorstädte           | Europa (ohne Schweiz) | Niederlande | Ausland   | NA                  | 2023-9 |\n",
       "| Wegzug | 2023 | 9 | Schweizer | W | 75 | Schweiz                   | Schweiz   | BS        | Gundeldingen        | Schweiz               | Schweiz     | BE        | NA                  | 2023-9 |\n",
       "| Zuzug  | 2023 | 9 | Ausländer | W | 77 | Nordamerika               | Kanada    | Unbekannt | NA                  | Schweiz               | Schweiz     | BS        | Riehen              | 2023-9 |\n",
       "| Wegzug | 2023 | 9 | Schweizer | M | 78 | Schweiz                   | Schweiz   | BS        | Gundeldingen        | Asien                 | Thailand    | Ausland   | NA                  | 2023-9 |\n",
       "| Wegzug | 2023 | 9 | Ausländer | W | 78 | Schweiz                   | Schweiz   | BS        | Bruderholz          | Europa (ohne Schweiz) | Deutschland | Ausland   | NA                  | 2023-9 |\n",
       "| Zuzug  | 2023 | 9 | Schweizer | M | 79 | Schweiz                   | Schweiz   | BL        | NA                  | Schweiz               | Schweiz     | BS        | Klybeck             | 2023-9 |\n",
       "| Zuzug  | 2023 | 9 | Schweizer | M | 79 | Unbekannt                 | Unbekannt | Unbekannt | NA                  | Schweiz               | Schweiz     | BS        | Hirzbrunnen         | 2023-9 |\n",
       "| Zuzug  | 2023 | 9 | Schweizer | M | 79 | Schweiz                   | Schweiz   | BE        | NA                  | Schweiz               | Schweiz     | BS        | St. Alban           | 2023-9 |\n",
       "| Wegzug | 2023 | 9 | Schweizer | M | 79 | Schweiz                   | Schweiz   | BS        | Altstadt Grossbasel | Asien                 | Philippinen | Ausland   | NA                  | 2023-9 |\n",
       "| Zuzug  | 2023 | 9 | Schweizer | W | 79 | Schweiz                   | Schweiz   | BL        | NA                  | Schweiz               | Schweiz     | BS        | Wettstein           | 2023-9 |\n",
       "| Wegzug | 2023 | 9 | Schweizer | M | 79 | Schweiz                   | Schweiz   | BS        | St. Johann          | unbekannt             | unbekannt   | unbekannt | NA                  | 2023-9 |\n",
       "| Zuzug  | 2023 | 9 | Schweizer | W | 80 | Afrika                    | Nigeria   | Unbekannt | NA                  | Schweiz               | Schweiz     | BS        | St. Johann          | 2023-9 |\n",
       "| Wegzug | 2023 | 9 | Ausländer | M | 81 | Schweiz                   | Schweiz   | BS        | Breite              | Schweiz               | Schweiz     | AG        | NA                  | 2023-9 |\n",
       "| Wegzug | 2023 | 9 | Ausländer | M | 81 | Schweiz                   | Schweiz   | BS        | Matthäus            | Schweiz               | Schweiz     | BL        | NA                  | 2023-9 |\n",
       "| Zuzug  | 2023 | 9 | Schweizer | M | 82 | Schweiz                   | Schweiz   | BL        | NA                  | Schweiz               | Schweiz     | BS        | Riehen              | 2023-9 |\n",
       "| Wegzug | 2023 | 9 | Ausländer | W | 86 | Schweiz                   | Schweiz   | BS        | Vorstädte           | unbekannt             | unbekannt   | unbekannt | NA                  | 2023-9 |\n",
       "| Zuzug  | 2023 | 9 | Schweizer | W | 86 | Unbekannt                 | Unbekannt | Unbekannt | NA                  | Schweiz               | Schweiz     | BS        | Hirzbrunnen         | 2023-9 |\n",
       "| Zuzug  | 2023 | 9 | Schweizer | W | 87 | Schweiz                   | Schweiz   | BL        | NA                  | Schweiz               | Schweiz     | BS        | St. Johann          | 2023-9 |\n",
       "| Wegzug | 2023 | 9 | Schweizer | W | 97 | Schweiz                   | Schweiz   | BS        | Gundeldingen        | Schweiz               | Schweiz     | VS        | NA                  | 2023-9 |\n",
       "\n",
       "\n",
       "\n",
       "\n"
      ],
      "text/plain": [
       "<list_of<\n",
       "  tbl_df<\n",
       "    Wanderungstyp       : character\n",
       "    Jahr                : double\n",
       "    Monat               : double\n",
       "    Staatsangehoerigkeit: character\n",
       "    Geschlecht          : character\n",
       "    Alter               : double\n",
       "    VonKontinent        : character\n",
       "    VonLand             : character\n",
       "    VonKanton           : character\n",
       "    VonWohnviertel      : character\n",
       "    NachKontinent       : character\n",
       "    NachLand            : character\n",
       "    NachKanton          : character\n",
       "    NachWohnviertel     : character\n",
       "    year_month          : character\n",
       "  >\n",
       ">[1]>\n",
       "[[1]]\n",
       "\u001b[90m# A tibble: 2,887 × 15\u001b[39m\n",
       "   Wanderungstyp  Jahr Monat Staatsangehoerigkeit Geschlecht Alter VonKontinent \n",
       "   \u001b[3m\u001b[90m<chr>\u001b[39m\u001b[23m         \u001b[3m\u001b[90m<dbl>\u001b[39m\u001b[23m \u001b[3m\u001b[90m<dbl>\u001b[39m\u001b[23m \u001b[3m\u001b[90m<chr>\u001b[39m\u001b[23m                \u001b[3m\u001b[90m<chr>\u001b[39m\u001b[23m      \u001b[3m\u001b[90m<dbl>\u001b[39m\u001b[23m \u001b[3m\u001b[90m<chr>\u001b[39m\u001b[23m        \n",
       "\u001b[90m 1\u001b[39m Zuzug          \u001b[4m2\u001b[24m023     9 Ausländer            M              0 Europa (ohne…\n",
       "\u001b[90m 2\u001b[39m Zuzug          \u001b[4m2\u001b[24m023     9 Schweizer            M              0 Schweiz      \n",
       "\u001b[90m 3\u001b[39m Wegzug         \u001b[4m2\u001b[24m023     9 Schweizer            M              0 Schweiz      \n",
       "\u001b[90m 4\u001b[39m Wegzug         \u001b[4m2\u001b[24m023     9 Schweizer            W              0 Schweiz      \n",
       "\u001b[90m 5\u001b[39m Wegzug         \u001b[4m2\u001b[24m023     9 Schweizer            M              0 Schweiz      \n",
       "\u001b[90m 6\u001b[39m Wegzug         \u001b[4m2\u001b[24m023     9 Schweizer            W              0 Schweiz      \n",
       "\u001b[90m 7\u001b[39m Zuzug          \u001b[4m2\u001b[24m023     9 Schweizer            W              0 Schweiz      \n",
       "\u001b[90m 8\u001b[39m Zuzug          \u001b[4m2\u001b[24m023     9 Ausländer            W              0 Schweiz      \n",
       "\u001b[90m 9\u001b[39m Wegzug         \u001b[4m2\u001b[24m023     9 Schweizer            W              0 Schweiz      \n",
       "\u001b[90m10\u001b[39m Zuzug          \u001b[4m2\u001b[24m023     9 Schweizer            M              0 Schweiz      \n",
       "\u001b[90m# ℹ 2,877 more rows\u001b[39m\n",
       "\u001b[90m# ℹ 8 more variables: VonLand <chr>, VonKanton <chr>, VonWohnviertel <chr>,\u001b[39m\n",
       "\u001b[90m#   NachKontinent <chr>, NachLand <chr>, NachKanton <chr>,\u001b[39m\n",
       "\u001b[90m#   NachWohnviertel <chr>, year_month <chr>\u001b[39m\n"
      ]
     },
     "metadata": {},
     "output_type": "display_data"
    }
   ],
   "source": [
    "chunks[465]"
   ]
  },
  {
   "cell_type": "code",
   "execution_count": 56,
   "metadata": {
    "vscode": {
     "languageId": "r"
    }
   },
   "outputs": [],
   "source": [
    "# Approach of creating chunks of data based on number of rows\n",
    "# chunk_size <- 300000\n",
    "# chunks <- split(final_data, (seq_len(nrow(final_data)) - 1) %/% chunk_size)"
   ]
  },
  {
   "cell_type": "code",
   "execution_count": 89,
   "metadata": {
    "vscode": {
     "languageId": "r"
    }
   },
   "outputs": [],
   "source": [
    "# Save each chunk as a separate csv file\n",
    "output_dir <- \"tidy/chunks/\"\n",
    "for (i in seq_along(chunks)) {\n",
    "  write_csv(chunks[[i]], paste0(output_dir, chunks[[i]][1, \"Jahr\"], \"-\", chunks[[i]][1, \"Monat\"], \".csv\"))\n",
    "}"
   ]
  }
 ],
 "metadata": {
  "kernelspec": {
   "display_name": "R",
   "language": "R",
   "name": "ir"
  },
  "language_info": {
   "codemirror_mode": "r",
   "file_extension": ".r",
   "mimetype": "text/x-r-source",
   "name": "R",
   "pygments_lexer": "r",
   "version": "4.3.3"
  }
 },
 "nbformat": 4,
 "nbformat_minor": 2
}
